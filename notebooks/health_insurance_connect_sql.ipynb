{
 "cells": [
  {
   "cell_type": "code",
   "execution_count": null,
   "id": "f17372f4",
   "metadata": {},
   "outputs": [],
   "source": [
    "# SQL Alchemy\n",
    "\n",
    "# psycopg2"
   ]
  },
  {
   "cell_type": "code",
   "execution_count": 1,
   "id": "267a212a",
   "metadata": {
    "ExecuteTime": {
     "end_time": "2022-04-23T20:45:46.957021Z",
     "start_time": "2022-04-23T20:45:46.495002Z"
    }
   },
   "outputs": [],
   "source": [
    "import psycopg2 as pg\n",
    "import pandas as pd"
   ]
  },
  {
   "cell_type": "code",
   "execution_count": 2,
   "id": "2f882a78",
   "metadata": {
    "ExecuteTime": {
     "end_time": "2022-04-23T20:45:49.168982Z",
     "start_time": "2022-04-23T20:45:49.166243Z"
    }
   },
   "outputs": [],
   "source": [
    "# Credentials\n",
    "host = 'comunidade-ds-postgres.c50pcakiuwi3.us-east-1.rds.amazonaws.com'\n",
    "port = 5432\n",
    "database =  'comunidadedsdb'\n",
    "username =  'member'\n",
    "pwd = 'cdspa'"
   ]
  },
  {
   "cell_type": "code",
   "execution_count": 6,
   "id": "7edd1add",
   "metadata": {
    "ExecuteTime": {
     "end_time": "2022-04-23T20:46:03.514037Z",
     "start_time": "2022-04-23T20:46:02.567444Z"
    },
    "code_folding": []
   },
   "outputs": [],
   "source": [
    "conn = pg.connect( user=username,\n",
    "                   password=pwd,\n",
    "                   host=host,\n",
    "                   port=port,\n",
    "                   database=database )  "
   ]
  },
  {
   "cell_type": "markdown",
   "id": "b0d15354",
   "metadata": {
    "ExecuteTime": {
     "end_time": "2022-04-21T21:54:44.077794Z",
     "start_time": "2022-04-21T21:54:44.073991Z"
    }
   },
   "source": [
    "# 1.0 Schema Query"
   ]
  },
  {
   "cell_type": "code",
   "execution_count": 4,
   "id": "7b767d6d",
   "metadata": {
    "ExecuteTime": {
     "end_time": "2022-04-23T20:45:53.678382Z",
     "start_time": "2022-04-23T20:45:53.387983Z"
    }
   },
   "outputs": [],
   "source": [
    "cursor = conn.cursor()\n",
    "\n",
    "query_schema = \"\"\"\n",
    "    SELECT nspname\n",
    "    FROM pg_catalog.pg_namespace\n",
    "\"\"\"\n",
    "\n",
    "cursor.execute( query_schema )\n",
    "\n",
    "record = cursor.fetchall()\n",
    "cursor.close()\n",
    "conn.close()"
   ]
  },
  {
   "cell_type": "markdown",
   "id": "0fd39de5",
   "metadata": {
    "ExecuteTime": {
     "end_time": "2022-04-21T21:56:02.629706Z",
     "start_time": "2022-04-21T21:56:02.627677Z"
    }
   },
   "source": [
    "# 2.0 Table Query"
   ]
  },
  {
   "cell_type": "code",
   "execution_count": 7,
   "id": "2c0e9b73",
   "metadata": {
    "ExecuteTime": {
     "end_time": "2022-04-23T20:46:04.768044Z",
     "start_time": "2022-04-23T20:46:04.466670Z"
    }
   },
   "outputs": [
    {
     "name": "stdout",
     "output_type": "stream",
     "text": [
      "[('users',), ('vehicle',), ('insurance',)]\n"
     ]
    }
   ],
   "source": [
    "cursor = conn.cursor()\n",
    "\n",
    "query_tables = \"\"\"\n",
    "    SELECT tablename\n",
    "    FROM pg_tables\n",
    "    WHERE schemaname='pa004'\n",
    "\"\"\"\n",
    "\n",
    "cursor.execute( query_tables )\n",
    "\n",
    "record = cursor.fetchall()\n",
    "print( record )\n",
    "\n",
    "cursor.close()\n",
    "conn.close()"
   ]
  },
  {
   "cell_type": "markdown",
   "id": "98f9c57f",
   "metadata": {
    "ExecuteTime": {
     "end_time": "2022-04-21T21:59:53.075817Z",
     "start_time": "2022-04-21T21:59:53.071613Z"
    }
   },
   "source": [
    "# 3.0 Collect Data using Psycopg2"
   ]
  },
  {
   "cell_type": "code",
   "execution_count": 17,
   "id": "cab3d142",
   "metadata": {
    "ExecuteTime": {
     "end_time": "2022-04-22T00:01:19.993185Z",
     "start_time": "2022-04-22T00:01:19.684753Z"
    }
   },
   "outputs": [
    {
     "name": "stdout",
     "output_type": "stream",
     "text": [
      "[(2, 'Male', 76, 3.0, 26.0), (3, 'Male', 47, 28.0, 26.0), (8, 'Female', 56, 28.0, 26.0), (11, 'Female', 47, 35.0, 124.0), (14, 'Male', 76, 28.0, 13.0), (15, 'Male', 71, 28.0, 30.0), (20, 'Female', 60, 33.0, 124.0), (21, 'Male', 65, 28.0, 124.0), (22, 'Male', 49, 28.0, 124.0), (27, 'Female', 51, 28.0, 124.0)]\n"
     ]
    }
   ],
   "source": [
    "cursor = conn.cursor()\n",
    "\n",
    "query_tables_users = \"\"\"\n",
    "    SELECT *\n",
    "    FROM pa004.users u\n",
    "    WHERE u.age > 44\n",
    "    LIMIT 10\n",
    "\"\"\"\n",
    "\n",
    "cursor.execute( query_tables_users )\n",
    "\n",
    "record = cursor.fetchall()\n",
    "print( record )\n",
    "\n",
    "cursor.close()\n",
    "conn.close()"
   ]
  },
  {
   "cell_type": "markdown",
   "id": "4d24160e",
   "metadata": {
    "ExecuteTime": {
     "end_time": "2022-04-21T21:59:53.075817Z",
     "start_time": "2022-04-21T21:59:53.071613Z"
    }
   },
   "source": [
    "# 3.0 Collect Data using Pandas"
   ]
  },
  {
   "cell_type": "code",
   "execution_count": 10,
   "id": "476a889f",
   "metadata": {
    "ExecuteTime": {
     "end_time": "2022-04-22T00:07:57.712490Z",
     "start_time": "2022-04-22T00:07:57.706026Z"
    }
   },
   "outputs": [],
   "source": [
    "import pandas.io.sql as psql"
   ]
  },
  {
   "cell_type": "code",
   "execution_count": 11,
   "id": "1349d5ec",
   "metadata": {
    "ExecuteTime": {
     "end_time": "2022-04-22T00:07:59.093809Z",
     "start_time": "2022-04-22T00:07:58.401959Z"
    }
   },
   "outputs": [
    {
     "name": "stderr",
     "output_type": "stream",
     "text": [
      "/opt/anaconda/envs/health-insurance/lib/python3.9/site-packages/pandas/io/sql.py:761: UserWarning: pandas only support SQLAlchemy connectable(engine/connection) ordatabase string URI or sqlite3 DBAPI2 connectionother DBAPI2 objects are not tested, please consider using SQLAlchemy\n",
      "  warnings.warn(\n"
     ]
    },
    {
     "data": {
      "text/html": [
       "<div>\n",
       "<style scoped>\n",
       "    .dataframe tbody tr th:only-of-type {\n",
       "        vertical-align: middle;\n",
       "    }\n",
       "\n",
       "    .dataframe tbody tr th {\n",
       "        vertical-align: top;\n",
       "    }\n",
       "\n",
       "    .dataframe thead th {\n",
       "        text-align: right;\n",
       "    }\n",
       "</style>\n",
       "<table border=\"1\" class=\"dataframe\">\n",
       "  <thead>\n",
       "    <tr style=\"text-align: right;\">\n",
       "      <th></th>\n",
       "      <th>id</th>\n",
       "      <th>gender</th>\n",
       "      <th>age</th>\n",
       "      <th>region_code</th>\n",
       "      <th>policy_sales_channel</th>\n",
       "      <th>id</th>\n",
       "      <th>driving_license</th>\n",
       "      <th>vehicle_age</th>\n",
       "      <th>vehicle_damage</th>\n",
       "      <th>id</th>\n",
       "      <th>previously_insured</th>\n",
       "      <th>annual_premium</th>\n",
       "      <th>vintage</th>\n",
       "      <th>response</th>\n",
       "    </tr>\n",
       "  </thead>\n",
       "  <tbody>\n",
       "    <tr>\n",
       "      <th>0</th>\n",
       "      <td>27</td>\n",
       "      <td>Female</td>\n",
       "      <td>51</td>\n",
       "      <td>28.0</td>\n",
       "      <td>124.0</td>\n",
       "      <td>27</td>\n",
       "      <td>1</td>\n",
       "      <td>1-2 Year</td>\n",
       "      <td>Yes</td>\n",
       "      <td>27</td>\n",
       "      <td>0</td>\n",
       "      <td>38341.0</td>\n",
       "      <td>49</td>\n",
       "      <td>1</td>\n",
       "    </tr>\n",
       "    <tr>\n",
       "      <th>1</th>\n",
       "      <td>15514</td>\n",
       "      <td>Male</td>\n",
       "      <td>50</td>\n",
       "      <td>17.0</td>\n",
       "      <td>124.0</td>\n",
       "      <td>15514</td>\n",
       "      <td>1</td>\n",
       "      <td>1-2 Year</td>\n",
       "      <td>Yes</td>\n",
       "      <td>15514</td>\n",
       "      <td>0</td>\n",
       "      <td>40338.0</td>\n",
       "      <td>192</td>\n",
       "      <td>0</td>\n",
       "    </tr>\n",
       "    <tr>\n",
       "      <th>2</th>\n",
       "      <td>15532</td>\n",
       "      <td>Male</td>\n",
       "      <td>46</td>\n",
       "      <td>41.0</td>\n",
       "      <td>26.0</td>\n",
       "      <td>15532</td>\n",
       "      <td>1</td>\n",
       "      <td>1-2 Year</td>\n",
       "      <td>Yes</td>\n",
       "      <td>15532</td>\n",
       "      <td>0</td>\n",
       "      <td>38519.0</td>\n",
       "      <td>156</td>\n",
       "      <td>0</td>\n",
       "    </tr>\n",
       "    <tr>\n",
       "      <th>3</th>\n",
       "      <td>15556</td>\n",
       "      <td>Male</td>\n",
       "      <td>48</td>\n",
       "      <td>41.0</td>\n",
       "      <td>124.0</td>\n",
       "      <td>15556</td>\n",
       "      <td>1</td>\n",
       "      <td>1-2 Year</td>\n",
       "      <td>Yes</td>\n",
       "      <td>15556</td>\n",
       "      <td>0</td>\n",
       "      <td>33341.0</td>\n",
       "      <td>212</td>\n",
       "      <td>0</td>\n",
       "    </tr>\n",
       "    <tr>\n",
       "      <th>4</th>\n",
       "      <td>15561</td>\n",
       "      <td>Male</td>\n",
       "      <td>68</td>\n",
       "      <td>46.0</td>\n",
       "      <td>26.0</td>\n",
       "      <td>15561</td>\n",
       "      <td>1</td>\n",
       "      <td>1-2 Year</td>\n",
       "      <td>No</td>\n",
       "      <td>15561</td>\n",
       "      <td>1</td>\n",
       "      <td>29675.0</td>\n",
       "      <td>156</td>\n",
       "      <td>0</td>\n",
       "    </tr>\n",
       "  </tbody>\n",
       "</table>\n",
       "</div>"
      ],
      "text/plain": [
       "      id  gender  age  region_code  policy_sales_channel     id  \\\n",
       "0     27  Female   51         28.0                 124.0     27   \n",
       "1  15514    Male   50         17.0                 124.0  15514   \n",
       "2  15532    Male   46         41.0                  26.0  15532   \n",
       "3  15556    Male   48         41.0                 124.0  15556   \n",
       "4  15561    Male   68         46.0                  26.0  15561   \n",
       "\n",
       "   driving_license vehicle_age vehicle_damage     id  previously_insured  \\\n",
       "0                1    1-2 Year            Yes     27                   0   \n",
       "1                1    1-2 Year            Yes  15514                   0   \n",
       "2                1    1-2 Year            Yes  15532                   0   \n",
       "3                1    1-2 Year            Yes  15556                   0   \n",
       "4                1    1-2 Year             No  15561                   1   \n",
       "\n",
       "   annual_premium  vintage  response  \n",
       "0         38341.0       49         1  \n",
       "1         40338.0      192         0  \n",
       "2         38519.0      156         0  \n",
       "3         33341.0      212         0  \n",
       "4         29675.0      156         0  "
      ]
     },
     "execution_count": 11,
     "metadata": {},
     "output_type": "execute_result"
    }
   ],
   "source": [
    "cursor = conn.cursor()\n",
    "\n",
    "query_tables_users = \"\"\"\n",
    "    SELECT *\n",
    "    FROM pa004.users u LEFT JOIN pa004.vehicle v ON ( u.id = v.id )\n",
    "                       LEFT JOIN pa004.insurance i ON ( u.id = i.id )\n",
    "    WHERE u.age > 44\n",
    "    limit 10\n",
    "\"\"\"\n",
    "\n",
    "df = psql.read_sql( query_tables_users, conn )\n",
    "df.head()"
   ]
  },
  {
   "cell_type": "code",
   "execution_count": 12,
   "id": "419a9533",
   "metadata": {
    "ExecuteTime": {
     "end_time": "2022-04-22T00:08:04.868163Z",
     "start_time": "2022-04-22T00:08:04.239982Z"
    }
   },
   "outputs": [
    {
     "name": "stderr",
     "output_type": "stream",
     "text": [
      "/opt/anaconda/envs/health-insurance/lib/python3.9/site-packages/pandas/io/sql.py:761: UserWarning: pandas only support SQLAlchemy connectable(engine/connection) ordatabase string URI or sqlite3 DBAPI2 connectionother DBAPI2 objects are not tested, please consider using SQLAlchemy\n",
      "  warnings.warn(\n"
     ]
    },
    {
     "data": {
      "text/html": [
       "<div>\n",
       "<style scoped>\n",
       "    .dataframe tbody tr th:only-of-type {\n",
       "        vertical-align: middle;\n",
       "    }\n",
       "\n",
       "    .dataframe tbody tr th {\n",
       "        vertical-align: top;\n",
       "    }\n",
       "\n",
       "    .dataframe thead th {\n",
       "        text-align: right;\n",
       "    }\n",
       "</style>\n",
       "<table border=\"1\" class=\"dataframe\">\n",
       "  <thead>\n",
       "    <tr style=\"text-align: right;\">\n",
       "      <th></th>\n",
       "      <th>gender</th>\n",
       "      <th>age</th>\n",
       "      <th>region_code</th>\n",
       "      <th>policy_sales_channel</th>\n",
       "      <th>driving_license</th>\n",
       "      <th>vehicle_age</th>\n",
       "      <th>vehicle_damage</th>\n",
       "      <th>previously_insured</th>\n",
       "      <th>annual_premium</th>\n",
       "      <th>vintage</th>\n",
       "      <th>response</th>\n",
       "    </tr>\n",
       "  </thead>\n",
       "  <tbody>\n",
       "    <tr>\n",
       "      <th>0</th>\n",
       "      <td>Female</td>\n",
       "      <td>51</td>\n",
       "      <td>28.0</td>\n",
       "      <td>124.0</td>\n",
       "      <td>1</td>\n",
       "      <td>1-2 Year</td>\n",
       "      <td>Yes</td>\n",
       "      <td>0</td>\n",
       "      <td>38341.0</td>\n",
       "      <td>49</td>\n",
       "      <td>1</td>\n",
       "    </tr>\n",
       "    <tr>\n",
       "      <th>1</th>\n",
       "      <td>Male</td>\n",
       "      <td>50</td>\n",
       "      <td>17.0</td>\n",
       "      <td>124.0</td>\n",
       "      <td>1</td>\n",
       "      <td>1-2 Year</td>\n",
       "      <td>Yes</td>\n",
       "      <td>0</td>\n",
       "      <td>40338.0</td>\n",
       "      <td>192</td>\n",
       "      <td>0</td>\n",
       "    </tr>\n",
       "    <tr>\n",
       "      <th>2</th>\n",
       "      <td>Male</td>\n",
       "      <td>46</td>\n",
       "      <td>41.0</td>\n",
       "      <td>26.0</td>\n",
       "      <td>1</td>\n",
       "      <td>1-2 Year</td>\n",
       "      <td>Yes</td>\n",
       "      <td>0</td>\n",
       "      <td>38519.0</td>\n",
       "      <td>156</td>\n",
       "      <td>0</td>\n",
       "    </tr>\n",
       "    <tr>\n",
       "      <th>3</th>\n",
       "      <td>Male</td>\n",
       "      <td>48</td>\n",
       "      <td>41.0</td>\n",
       "      <td>124.0</td>\n",
       "      <td>1</td>\n",
       "      <td>1-2 Year</td>\n",
       "      <td>Yes</td>\n",
       "      <td>0</td>\n",
       "      <td>33341.0</td>\n",
       "      <td>212</td>\n",
       "      <td>0</td>\n",
       "    </tr>\n",
       "    <tr>\n",
       "      <th>4</th>\n",
       "      <td>Male</td>\n",
       "      <td>68</td>\n",
       "      <td>46.0</td>\n",
       "      <td>26.0</td>\n",
       "      <td>1</td>\n",
       "      <td>1-2 Year</td>\n",
       "      <td>No</td>\n",
       "      <td>1</td>\n",
       "      <td>29675.0</td>\n",
       "      <td>156</td>\n",
       "      <td>0</td>\n",
       "    </tr>\n",
       "  </tbody>\n",
       "</table>\n",
       "</div>"
      ],
      "text/plain": [
       "   gender  age  region_code  policy_sales_channel  driving_license  \\\n",
       "0  Female   51         28.0                 124.0                1   \n",
       "1    Male   50         17.0                 124.0                1   \n",
       "2    Male   46         41.0                  26.0                1   \n",
       "3    Male   48         41.0                 124.0                1   \n",
       "4    Male   68         46.0                  26.0                1   \n",
       "\n",
       "  vehicle_age vehicle_damage  previously_insured  annual_premium  vintage  \\\n",
       "0    1-2 Year            Yes                   0         38341.0       49   \n",
       "1    1-2 Year            Yes                   0         40338.0      192   \n",
       "2    1-2 Year            Yes                   0         38519.0      156   \n",
       "3    1-2 Year            Yes                   0         33341.0      212   \n",
       "4    1-2 Year             No                   1         29675.0      156   \n",
       "\n",
       "   response  \n",
       "0         1  \n",
       "1         0  \n",
       "2         0  \n",
       "3         0  \n",
       "4         0  "
      ]
     },
     "execution_count": 12,
     "metadata": {},
     "output_type": "execute_result"
    }
   ],
   "source": [
    "df1 = pd.read_sql( query_tables_users, conn )\n",
    "df1 = df.drop( df1.columns[[5, 9]], axis= 1 ) \n",
    "df1.head()"
   ]
  },
  {
   "cell_type": "code",
   "execution_count": null,
   "id": "abd9f892",
   "metadata": {},
   "outputs": [],
   "source": []
  }
 ],
 "metadata": {
  "kernelspec": {
   "display_name": "Python 3 (ipykernel)",
   "language": "python",
   "name": "python3"
  },
  "language_info": {
   "codemirror_mode": {
    "name": "ipython",
    "version": 3
   },
   "file_extension": ".py",
   "mimetype": "text/x-python",
   "name": "python",
   "nbconvert_exporter": "python",
   "pygments_lexer": "ipython3",
   "version": "3.9.12"
  }
 },
 "nbformat": 4,
 "nbformat_minor": 5
}
