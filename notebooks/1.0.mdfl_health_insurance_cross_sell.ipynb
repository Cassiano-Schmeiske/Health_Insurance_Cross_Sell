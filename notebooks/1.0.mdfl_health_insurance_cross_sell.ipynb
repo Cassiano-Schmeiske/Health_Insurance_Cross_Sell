{
 "cells": [
  {
   "cell_type": "markdown",
   "id": "82f9047e",
   "metadata": {},
   "source": [
    "# 0.0. Imports"
   ]
  },
  {
   "cell_type": "code",
   "execution_count": 2,
   "id": "b9565644",
   "metadata": {
    "ExecuteTime": {
     "end_time": "2022-05-13T01:00:22.183186Z",
     "start_time": "2022-05-13T01:00:21.206564Z"
    }
   },
   "outputs": [],
   "source": [
    "import numpy  as np\n",
    "import pandas as pd\n",
    "import boruta as bt\n",
    "import scikitplot as skplt\n",
    "import pickle\n",
    "\n",
    "from IPython.core.display  import HTML\n",
    "import seaborn as sns\n",
    "\n",
    "from matplotlib import pyplot as plt\n",
    "\n",
    "from sklearn import preprocessing   as pp\n",
    "from sklearn import linear_model    as lm\n",
    "from sklearn import model_selection as ms\n",
    "from sklearn import ensemble        as en\n",
    "from sklearn import neighbors       as nh"
   ]
  },
  {
   "cell_type": "markdown",
   "id": "94527c28",
   "metadata": {},
   "source": [
    "## 0.1. Helper Function"
   ]
  },
  {
   "cell_type": "code",
   "execution_count": 2,
   "id": "81316f16",
   "metadata": {
    "ExecuteTime": {
     "end_time": "2022-05-11T01:57:12.051618Z",
     "start_time": "2022-05-11T01:57:12.048436Z"
    }
   },
   "outputs": [],
   "source": [
    "  \n",
    "def graphic_percentage(ax,total):\n",
    "    for p in ax.patches:\n",
    "        height = p.get_height()\n",
    "        ax.text(p.get_x()+p.get_width()/2.,\n",
    "                height,\n",
    "                '{:1.2f}'.format(height/total*100),\n",
    "                ha=\"center\") \n",
    "    show"
   ]
  },
  {
   "cell_type": "code",
   "execution_count": null,
   "id": "62b1f786",
   "metadata": {
    "ExecuteTime": {
     "end_time": "2022-05-11T01:55:03.840197Z",
     "start_time": "2022-05-11T01:55:03.831815Z"
    }
   },
   "outputs": [],
   "source": []
  },
  {
   "cell_type": "markdown",
   "id": "f7507a70",
   "metadata": {},
   "source": [
    "## 0.2. Loading Dataset"
   ]
  },
  {
   "cell_type": "code",
   "execution_count": 3,
   "id": "5fd0972b",
   "metadata": {
    "ExecuteTime": {
     "end_time": "2022-05-11T01:57:16.700632Z",
     "start_time": "2022-05-11T01:57:16.453769Z"
    }
   },
   "outputs": [],
   "source": [
    "df_raw = pd.read_csv( '../data/raw/train.csv')"
   ]
  },
  {
   "cell_type": "code",
   "execution_count": 4,
   "id": "b1cc6361",
   "metadata": {
    "ExecuteTime": {
     "end_time": "2022-05-11T01:57:16.988661Z",
     "start_time": "2022-05-11T01:57:16.976746Z"
    }
   },
   "outputs": [
    {
     "data": {
      "text/html": [
       "<div>\n",
       "<style scoped>\n",
       "    .dataframe tbody tr th:only-of-type {\n",
       "        vertical-align: middle;\n",
       "    }\n",
       "\n",
       "    .dataframe tbody tr th {\n",
       "        vertical-align: top;\n",
       "    }\n",
       "\n",
       "    .dataframe thead th {\n",
       "        text-align: right;\n",
       "    }\n",
       "</style>\n",
       "<table border=\"1\" class=\"dataframe\">\n",
       "  <thead>\n",
       "    <tr style=\"text-align: right;\">\n",
       "      <th></th>\n",
       "      <th>id</th>\n",
       "      <th>Gender</th>\n",
       "      <th>Age</th>\n",
       "      <th>Driving_License</th>\n",
       "      <th>Region_Code</th>\n",
       "      <th>Previously_Insured</th>\n",
       "      <th>Vehicle_Age</th>\n",
       "      <th>Vehicle_Damage</th>\n",
       "      <th>Annual_Premium</th>\n",
       "      <th>Policy_Sales_Channel</th>\n",
       "      <th>Vintage</th>\n",
       "      <th>Response</th>\n",
       "    </tr>\n",
       "  </thead>\n",
       "  <tbody>\n",
       "    <tr>\n",
       "      <th>0</th>\n",
       "      <td>1</td>\n",
       "      <td>Male</td>\n",
       "      <td>44</td>\n",
       "      <td>1</td>\n",
       "      <td>28.0</td>\n",
       "      <td>0</td>\n",
       "      <td>&gt; 2 Years</td>\n",
       "      <td>Yes</td>\n",
       "      <td>40454.0</td>\n",
       "      <td>26.0</td>\n",
       "      <td>217</td>\n",
       "      <td>1</td>\n",
       "    </tr>\n",
       "    <tr>\n",
       "      <th>1</th>\n",
       "      <td>2</td>\n",
       "      <td>Male</td>\n",
       "      <td>76</td>\n",
       "      <td>1</td>\n",
       "      <td>3.0</td>\n",
       "      <td>0</td>\n",
       "      <td>1-2 Year</td>\n",
       "      <td>No</td>\n",
       "      <td>33536.0</td>\n",
       "      <td>26.0</td>\n",
       "      <td>183</td>\n",
       "      <td>0</td>\n",
       "    </tr>\n",
       "    <tr>\n",
       "      <th>2</th>\n",
       "      <td>3</td>\n",
       "      <td>Male</td>\n",
       "      <td>47</td>\n",
       "      <td>1</td>\n",
       "      <td>28.0</td>\n",
       "      <td>0</td>\n",
       "      <td>&gt; 2 Years</td>\n",
       "      <td>Yes</td>\n",
       "      <td>38294.0</td>\n",
       "      <td>26.0</td>\n",
       "      <td>27</td>\n",
       "      <td>1</td>\n",
       "    </tr>\n",
       "    <tr>\n",
       "      <th>3</th>\n",
       "      <td>4</td>\n",
       "      <td>Male</td>\n",
       "      <td>21</td>\n",
       "      <td>1</td>\n",
       "      <td>11.0</td>\n",
       "      <td>1</td>\n",
       "      <td>&lt; 1 Year</td>\n",
       "      <td>No</td>\n",
       "      <td>28619.0</td>\n",
       "      <td>152.0</td>\n",
       "      <td>203</td>\n",
       "      <td>0</td>\n",
       "    </tr>\n",
       "    <tr>\n",
       "      <th>4</th>\n",
       "      <td>5</td>\n",
       "      <td>Female</td>\n",
       "      <td>29</td>\n",
       "      <td>1</td>\n",
       "      <td>41.0</td>\n",
       "      <td>1</td>\n",
       "      <td>&lt; 1 Year</td>\n",
       "      <td>No</td>\n",
       "      <td>27496.0</td>\n",
       "      <td>152.0</td>\n",
       "      <td>39</td>\n",
       "      <td>0</td>\n",
       "    </tr>\n",
       "  </tbody>\n",
       "</table>\n",
       "</div>"
      ],
      "text/plain": [
       "   id  Gender  Age  Driving_License  Region_Code  Previously_Insured  \\\n",
       "0   1    Male   44                1         28.0                   0   \n",
       "1   2    Male   76                1          3.0                   0   \n",
       "2   3    Male   47                1         28.0                   0   \n",
       "3   4    Male   21                1         11.0                   1   \n",
       "4   5  Female   29                1         41.0                   1   \n",
       "\n",
       "  Vehicle_Age Vehicle_Damage  Annual_Premium  Policy_Sales_Channel  Vintage  \\\n",
       "0   > 2 Years            Yes         40454.0                  26.0      217   \n",
       "1    1-2 Year             No         33536.0                  26.0      183   \n",
       "2   > 2 Years            Yes         38294.0                  26.0       27   \n",
       "3    < 1 Year             No         28619.0                 152.0      203   \n",
       "4    < 1 Year             No         27496.0                 152.0       39   \n",
       "\n",
       "   Response  \n",
       "0         1  \n",
       "1         0  \n",
       "2         1  \n",
       "3         0  \n",
       "4         0  "
      ]
     },
     "execution_count": 4,
     "metadata": {},
     "output_type": "execute_result"
    }
   ],
   "source": [
    "df_raw.head()"
   ]
  },
  {
   "cell_type": "markdown",
   "id": "a0c6b84c",
   "metadata": {},
   "source": [
    "# 1.0. Data Description"
   ]
  },
  {
   "cell_type": "code",
   "execution_count": 5,
   "id": "9b4846f4",
   "metadata": {
    "ExecuteTime": {
     "end_time": "2022-05-11T01:57:17.639246Z",
     "start_time": "2022-05-11T01:57:17.626495Z"
    }
   },
   "outputs": [],
   "source": [
    "df1 = df_raw.copy()"
   ]
  },
  {
   "cell_type": "code",
   "execution_count": 6,
   "id": "f762cd29",
   "metadata": {
    "ExecuteTime": {
     "end_time": "2022-05-11T01:57:17.888755Z",
     "start_time": "2022-05-11T01:57:17.884287Z"
    }
   },
   "outputs": [],
   "source": [
    "# Rename Columns\n",
    "cols_new = ['id', 'gender', 'age', 'driving_license', 'region_code',\n",
    "       'previously_insured', 'vehicle_age', 'vehicle_damage', 'annual_premium',\n",
    "       'policy_sales_channel', 'vintage', 'response']\n",
    "\n",
    "df1.columns = cols_new"
   ]
  },
  {
   "cell_type": "markdown",
   "id": "b24d3265",
   "metadata": {},
   "source": [
    "## 1.1. Data Dimension"
   ]
  },
  {
   "cell_type": "code",
   "execution_count": 7,
   "id": "eacf4793",
   "metadata": {
    "ExecuteTime": {
     "end_time": "2022-05-11T01:57:18.326837Z",
     "start_time": "2022-05-11T01:57:18.323129Z"
    }
   },
   "outputs": [
    {
     "name": "stdout",
     "output_type": "stream",
     "text": [
      "Number of Rows: 381109\n",
      "Number of Columns: 12\n"
     ]
    }
   ],
   "source": [
    "print( f'Number of Rows: {df1.shape[0]}' )\n",
    "print( f'Number of Columns: {df1.shape[1]}' )"
   ]
  },
  {
   "cell_type": "markdown",
   "id": "5b43d908",
   "metadata": {},
   "source": [
    "## 1.2. Data Types"
   ]
  },
  {
   "cell_type": "code",
   "execution_count": 8,
   "id": "0e655e0b",
   "metadata": {
    "ExecuteTime": {
     "end_time": "2022-05-11T01:57:18.748307Z",
     "start_time": "2022-05-11T01:57:18.743821Z"
    }
   },
   "outputs": [
    {
     "data": {
      "text/plain": [
       "id                        int64\n",
       "gender                   object\n",
       "age                       int64\n",
       "driving_license           int64\n",
       "region_code             float64\n",
       "previously_insured        int64\n",
       "vehicle_age              object\n",
       "vehicle_damage           object\n",
       "annual_premium          float64\n",
       "policy_sales_channel    float64\n",
       "vintage                   int64\n",
       "response                  int64\n",
       "dtype: object"
      ]
     },
     "execution_count": 8,
     "metadata": {},
     "output_type": "execute_result"
    }
   ],
   "source": [
    "df1.dtypes"
   ]
  },
  {
   "cell_type": "markdown",
   "id": "97c6ec89",
   "metadata": {},
   "source": [
    "## 1.3. Check NA"
   ]
  },
  {
   "cell_type": "code",
   "execution_count": 9,
   "id": "d8b492f4",
   "metadata": {
    "ExecuteTime": {
     "end_time": "2022-05-11T01:57:19.238876Z",
     "start_time": "2022-05-11T01:57:19.125836Z"
    }
   },
   "outputs": [
    {
     "data": {
      "text/plain": [
       "id                      0\n",
       "gender                  0\n",
       "age                     0\n",
       "driving_license         0\n",
       "region_code             0\n",
       "previously_insured      0\n",
       "vehicle_age             0\n",
       "vehicle_damage          0\n",
       "annual_premium          0\n",
       "policy_sales_channel    0\n",
       "vintage                 0\n",
       "response                0\n",
       "dtype: int64"
      ]
     },
     "execution_count": 9,
     "metadata": {},
     "output_type": "execute_result"
    }
   ],
   "source": [
    "df1.isna().sum()"
   ]
  },
  {
   "cell_type": "markdown",
   "id": "e072df05",
   "metadata": {},
   "source": [
    "## 1.4. Data Descriptive"
   ]
  },
  {
   "cell_type": "code",
   "execution_count": 10,
   "id": "861a7fc2",
   "metadata": {
    "ExecuteTime": {
     "end_time": "2022-05-11T01:57:19.514588Z",
     "start_time": "2022-05-11T01:57:19.508619Z"
    }
   },
   "outputs": [],
   "source": [
    "num_attributes = df1.select_dtypes( include=['int64', 'float64'] )\n",
    "cat_attributes = df1.select_dtypes( exclude=['int64', 'float64', 'datetime64[ns]'] )"
   ]
  },
  {
   "cell_type": "markdown",
   "id": "aa8447a6",
   "metadata": {},
   "source": [
    "## 1.5. Numerical Attributes"
   ]
  },
  {
   "cell_type": "code",
   "execution_count": 11,
   "id": "a6670af0",
   "metadata": {
    "ExecuteTime": {
     "end_time": "2022-05-11T01:57:20.533283Z",
     "start_time": "2022-05-11T01:57:20.007011Z"
    }
   },
   "outputs": [
    {
     "data": {
      "text/html": [
       "<div>\n",
       "<style scoped>\n",
       "    .dataframe tbody tr th:only-of-type {\n",
       "        vertical-align: middle;\n",
       "    }\n",
       "\n",
       "    .dataframe tbody tr th {\n",
       "        vertical-align: top;\n",
       "    }\n",
       "\n",
       "    .dataframe thead th {\n",
       "        text-align: right;\n",
       "    }\n",
       "</style>\n",
       "<table border=\"1\" class=\"dataframe\">\n",
       "  <thead>\n",
       "    <tr style=\"text-align: right;\">\n",
       "      <th></th>\n",
       "      <th>attributes</th>\n",
       "      <th>min</th>\n",
       "      <th>max</th>\n",
       "      <th>range</th>\n",
       "      <th>mean</th>\n",
       "      <th>median</th>\n",
       "      <th>std</th>\n",
       "      <th>skew</th>\n",
       "      <th>kurtosis</th>\n",
       "    </tr>\n",
       "  </thead>\n",
       "  <tbody>\n",
       "    <tr>\n",
       "      <th>0</th>\n",
       "      <td>id</td>\n",
       "      <td>1.0</td>\n",
       "      <td>381109.0</td>\n",
       "      <td>381108.0</td>\n",
       "      <td>190555.000000</td>\n",
       "      <td>190555.0</td>\n",
       "      <td>110016.691870</td>\n",
       "      <td>9.443274e-16</td>\n",
       "      <td>-1.200000</td>\n",
       "    </tr>\n",
       "    <tr>\n",
       "      <th>1</th>\n",
       "      <td>age</td>\n",
       "      <td>20.0</td>\n",
       "      <td>85.0</td>\n",
       "      <td>65.0</td>\n",
       "      <td>38.822584</td>\n",
       "      <td>36.0</td>\n",
       "      <td>15.511591</td>\n",
       "      <td>6.725390e-01</td>\n",
       "      <td>-0.565655</td>\n",
       "    </tr>\n",
       "    <tr>\n",
       "      <th>2</th>\n",
       "      <td>driving_license</td>\n",
       "      <td>0.0</td>\n",
       "      <td>1.0</td>\n",
       "      <td>1.0</td>\n",
       "      <td>0.997869</td>\n",
       "      <td>1.0</td>\n",
       "      <td>0.046109</td>\n",
       "      <td>-2.159518e+01</td>\n",
       "      <td>464.354302</td>\n",
       "    </tr>\n",
       "    <tr>\n",
       "      <th>3</th>\n",
       "      <td>region_code</td>\n",
       "      <td>0.0</td>\n",
       "      <td>52.0</td>\n",
       "      <td>52.0</td>\n",
       "      <td>26.388807</td>\n",
       "      <td>28.0</td>\n",
       "      <td>13.229871</td>\n",
       "      <td>-1.152664e-01</td>\n",
       "      <td>-0.867857</td>\n",
       "    </tr>\n",
       "    <tr>\n",
       "      <th>4</th>\n",
       "      <td>previously_insured</td>\n",
       "      <td>0.0</td>\n",
       "      <td>1.0</td>\n",
       "      <td>1.0</td>\n",
       "      <td>0.458210</td>\n",
       "      <td>0.0</td>\n",
       "      <td>0.498251</td>\n",
       "      <td>1.677471e-01</td>\n",
       "      <td>-1.971871</td>\n",
       "    </tr>\n",
       "    <tr>\n",
       "      <th>5</th>\n",
       "      <td>annual_premium</td>\n",
       "      <td>2630.0</td>\n",
       "      <td>540165.0</td>\n",
       "      <td>537535.0</td>\n",
       "      <td>30564.389581</td>\n",
       "      <td>31669.0</td>\n",
       "      <td>17213.132474</td>\n",
       "      <td>1.766087e+00</td>\n",
       "      <td>34.004569</td>\n",
       "    </tr>\n",
       "    <tr>\n",
       "      <th>6</th>\n",
       "      <td>policy_sales_channel</td>\n",
       "      <td>1.0</td>\n",
       "      <td>163.0</td>\n",
       "      <td>162.0</td>\n",
       "      <td>112.034295</td>\n",
       "      <td>133.0</td>\n",
       "      <td>54.203924</td>\n",
       "      <td>-9.000081e-01</td>\n",
       "      <td>-0.970810</td>\n",
       "    </tr>\n",
       "    <tr>\n",
       "      <th>7</th>\n",
       "      <td>vintage</td>\n",
       "      <td>10.0</td>\n",
       "      <td>299.0</td>\n",
       "      <td>289.0</td>\n",
       "      <td>154.347397</td>\n",
       "      <td>154.0</td>\n",
       "      <td>83.671194</td>\n",
       "      <td>3.029517e-03</td>\n",
       "      <td>-1.200688</td>\n",
       "    </tr>\n",
       "    <tr>\n",
       "      <th>8</th>\n",
       "      <td>response</td>\n",
       "      <td>0.0</td>\n",
       "      <td>1.0</td>\n",
       "      <td>1.0</td>\n",
       "      <td>0.122563</td>\n",
       "      <td>0.0</td>\n",
       "      <td>0.327935</td>\n",
       "      <td>2.301906e+00</td>\n",
       "      <td>3.298788</td>\n",
       "    </tr>\n",
       "  </tbody>\n",
       "</table>\n",
       "</div>"
      ],
      "text/plain": [
       "             attributes     min       max     range           mean    median  \\\n",
       "0                    id     1.0  381109.0  381108.0  190555.000000  190555.0   \n",
       "1                   age    20.0      85.0      65.0      38.822584      36.0   \n",
       "2       driving_license     0.0       1.0       1.0       0.997869       1.0   \n",
       "3           region_code     0.0      52.0      52.0      26.388807      28.0   \n",
       "4    previously_insured     0.0       1.0       1.0       0.458210       0.0   \n",
       "5        annual_premium  2630.0  540165.0  537535.0   30564.389581   31669.0   \n",
       "6  policy_sales_channel     1.0     163.0     162.0     112.034295     133.0   \n",
       "7               vintage    10.0     299.0     289.0     154.347397     154.0   \n",
       "8              response     0.0       1.0       1.0       0.122563       0.0   \n",
       "\n",
       "             std          skew    kurtosis  \n",
       "0  110016.691870  9.443274e-16   -1.200000  \n",
       "1      15.511591  6.725390e-01   -0.565655  \n",
       "2       0.046109 -2.159518e+01  464.354302  \n",
       "3      13.229871 -1.152664e-01   -0.867857  \n",
       "4       0.498251  1.677471e-01   -1.971871  \n",
       "5   17213.132474  1.766087e+00   34.004569  \n",
       "6      54.203924 -9.000081e-01   -0.970810  \n",
       "7      83.671194  3.029517e-03   -1.200688  \n",
       "8       0.327935  2.301906e+00    3.298788  "
      ]
     },
     "execution_count": 11,
     "metadata": {},
     "output_type": "execute_result"
    }
   ],
   "source": [
    "# Central Tendency - Mean, Median\n",
    "ct1 = pd.DataFrame( num_attributes.apply( np.mean ) ).T\n",
    "ct2 = pd.DataFrame( num_attributes.apply( np.median ) ).T\n",
    "\n",
    "# Dispersion - std, min, max, range, skew, kurtosis\n",
    "d1 = pd.DataFrame( num_attributes.apply( np.std ) ).T  \n",
    "d2 = pd.DataFrame( num_attributes.apply( min ) ).T\n",
    "d3 = pd.DataFrame( num_attributes.apply( max ) ).T\n",
    "d4 = pd.DataFrame( num_attributes.apply( lambda x: x.max() - x.min() ) ).T\n",
    "d5 = pd.DataFrame( num_attributes.apply( lambda x: x.skew() ) ).T\n",
    "d6 = pd.DataFrame( num_attributes.apply( lambda x: x.kurtosis() ) ).T\n",
    "\n",
    "# Concatenar\n",
    "m = pd.concat( [d2, d3, d4, ct1, ct2, d1, d5, d6] ).T.reset_index()\n",
    "m.columns = ['attributes', 'min', 'max', 'range', 'mean', 'median', 'std', 'skew', 'kurtosis']\n",
    "m"
   ]
  },
  {
   "cell_type": "code",
   "execution_count": 12,
   "id": "667e00a6",
   "metadata": {
    "ExecuteTime": {
     "end_time": "2022-05-11T01:57:21.214527Z",
     "start_time": "2022-05-11T01:57:20.534844Z"
    }
   },
   "outputs": [
    {
     "data": {
      "image/png": "[encoded data removed]",
      "text/plain": [
       "<Figure size 432x288 with 9 Axes>"
      ]
     },
     "metadata": {
      "needs_background": "light"
     },
     "output_type": "display_data"
    }
   ],
   "source": [
    "num_attributes.drop(columns = ['id'], inplace = True)\n",
    "num_attributes.hist(bins=25);"
   ]
  },
  {
   "cell_type": "markdown",
   "id": "9a2d7f68",
   "metadata": {},
   "source": [
    "## 1.6. Categorical Attributes"
   ]
  },
  {
   "cell_type": "code",
   "execution_count": 13,
   "id": "a77465de",
   "metadata": {
    "ExecuteTime": {
     "end_time": "2022-05-11T01:57:21.307375Z",
     "start_time": "2022-05-11T01:57:21.215637Z"
    }
   },
   "outputs": [
    {
     "data": {
      "text/html": [
       "<div>\n",
       "<style scoped>\n",
       "    .dataframe tbody tr th:only-of-type {\n",
       "        vertical-align: middle;\n",
       "    }\n",
       "\n",
       "    .dataframe tbody tr th {\n",
       "        vertical-align: top;\n",
       "    }\n",
       "\n",
       "    .dataframe thead th {\n",
       "        text-align: right;\n",
       "    }\n",
       "</style>\n",
       "<table border=\"1\" class=\"dataframe\">\n",
       "  <thead>\n",
       "    <tr style=\"text-align: right;\">\n",
       "      <th></th>\n",
       "      <th>gender</th>\n",
       "      <th>vehicle_age</th>\n",
       "      <th>vehicle_damage</th>\n",
       "    </tr>\n",
       "  </thead>\n",
       "  <tbody>\n",
       "    <tr>\n",
       "      <th>count</th>\n",
       "      <td>381109</td>\n",
       "      <td>381109</td>\n",
       "      <td>381109</td>\n",
       "    </tr>\n",
       "    <tr>\n",
       "      <th>unique</th>\n",
       "      <td>2</td>\n",
       "      <td>3</td>\n",
       "      <td>2</td>\n",
       "    </tr>\n",
       "    <tr>\n",
       "      <th>top</th>\n",
       "      <td>Male</td>\n",
       "      <td>1-2 Year</td>\n",
       "      <td>Yes</td>\n",
       "    </tr>\n",
       "    <tr>\n",
       "      <th>freq</th>\n",
       "      <td>206089</td>\n",
       "      <td>200316</td>\n",
       "      <td>192413</td>\n",
       "    </tr>\n",
       "  </tbody>\n",
       "</table>\n",
       "</div>"
      ],
      "text/plain": [
       "        gender vehicle_age vehicle_damage\n",
       "count   381109      381109         381109\n",
       "unique       2           3              2\n",
       "top       Male    1-2 Year            Yes\n",
       "freq    206089      200316         192413"
      ]
     },
     "execution_count": 13,
     "metadata": {},
     "output_type": "execute_result"
    }
   ],
   "source": [
    "cat_attributes.describe()"
   ]
  },
  {
   "cell_type": "code",
   "execution_count": 3,
   "id": "0dad9ece",
   "metadata": {
    "ExecuteTime": {
     "end_time": "2022-05-13T01:00:38.707409Z",
     "start_time": "2022-05-13T01:00:38.603702Z"
    }
   },
   "outputs": [
    {
     "ename": "NameError",
     "evalue": "name 'df1' is not defined",
     "output_type": "error",
     "traceback": [
      "\u001b[0;31m---------------------------------------------------------------------------\u001b[0m",
      "\u001b[0;31mNameError\u001b[0m                                 Traceback (most recent call last)",
      "Input \u001b[0;32mIn [3]\u001b[0m, in \u001b[0;36m<cell line: 5>\u001b[0;34m()\u001b[0m\n\u001b[1;32m      1\u001b[0m plt\u001b[38;5;241m.\u001b[39mfigure(figsize\u001b[38;5;241m=\u001b[39m(\u001b[38;5;241m20\u001b[39m, \u001b[38;5;241m15\u001b[39m))\n\u001b[1;32m      4\u001b[0m plt\u001b[38;5;241m.\u001b[39msubplot(\u001b[38;5;241m1\u001b[39m, \u001b[38;5;241m3\u001b[39m, \u001b[38;5;241m1\u001b[39m)\n\u001b[0;32m----> 5\u001b[0m sns\u001b[38;5;241m.\u001b[39mcountplot(data\u001b[38;5;241m=\u001b[39m\u001b[43mdf1\u001b[49m, x\u001b[38;5;241m=\u001b[39m\u001b[38;5;124m'\u001b[39m\u001b[38;5;124mgender\u001b[39m\u001b[38;5;124m'\u001b[39m, hue\u001b[38;5;241m=\u001b[39m\u001b[38;5;124m'\u001b[39m\u001b[38;5;124mresponse\u001b[39m\u001b[38;5;124m'\u001b[39m);\u001b[38;5;66;03m#, multiple='stack');\u001b[39;00m\n\u001b[1;32m      7\u001b[0m plt\u001b[38;5;241m.\u001b[39msubplot(\u001b[38;5;241m1\u001b[39m, \u001b[38;5;241m3\u001b[39m, \u001b[38;5;241m2\u001b[39m)\n\u001b[1;32m      8\u001b[0m sns\u001b[38;5;241m.\u001b[39mcountplot(data\u001b[38;5;241m=\u001b[39mdf1, x\u001b[38;5;241m=\u001b[39m\u001b[38;5;124m'\u001b[39m\u001b[38;5;124mvehicle_age\u001b[39m\u001b[38;5;124m'\u001b[39m, hue\u001b[38;5;241m=\u001b[39m\u001b[38;5;124m'\u001b[39m\u001b[38;5;124mresponse\u001b[39m\u001b[38;5;124m'\u001b[39m);\u001b[38;5;66;03m#, multiple='stack');\u001b[39;00m\n",
      "\u001b[0;31mNameError\u001b[0m: name 'df1' is not defined"
     ]
    },
    {
     "data": {
      "image/png": "[encoded data removed]",
      "text/plain": [
       "<Figure size 1440x1080 with 1 Axes>"
      ]
     },
     "metadata": {
      "needs_background": "light"
     },
     "output_type": "display_data"
    }
   ],
   "source": [
    "plt.figure(figsize=(20, 15))\n",
    "\n",
    "\n",
    "plt.subplot(1, 3, 1)\n",
    "sns.countplot(data=df1, x='gender', hue='response');#, multiple='stack');\n",
    "\n",
    "plt.subplot(1, 3, 2)\n",
    "sns.countplot(data=df1, x='vehicle_age', hue='response');#, multiple='stack');\n",
    "\n",
    "plt.subplot(1, 3, 3)\n",
    "sns.countplot(data=df1, x='vehicle_damage', hue='response');#, multiple='stack');"
   ]
  },
  {
   "cell_type": "markdown",
   "id": "ef48fefc",
   "metadata": {},
   "source": [
    "# 2.0. Feature Engineering"
   ]
  },
  {
   "cell_type": "code",
   "execution_count": 5,
   "id": "5689803c",
   "metadata": {
    "ExecuteTime": {
     "end_time": "2022-05-13T01:12:08.499705Z",
     "start_time": "2022-05-13T01:12:08.487094Z"
    }
   },
   "outputs": [
    {
     "ename": "NameError",
     "evalue": "name 'df1' is not defined",
     "output_type": "error",
     "traceback": [
      "\u001b[0;31m---------------------------------------------------------------------------\u001b[0m",
      "\u001b[0;31mNameError\u001b[0m                                 Traceback (most recent call last)",
      "Input \u001b[0;32mIn [5]\u001b[0m, in \u001b[0;36m<cell line: 1>\u001b[0;34m()\u001b[0m\n\u001b[0;32m----> 1\u001b[0m df2 \u001b[38;5;241m=\u001b[39m \u001b[43mdf1\u001b[49m\u001b[38;5;241m.\u001b[39mcopy()\n",
      "\u001b[0;31mNameError\u001b[0m: name 'df1' is not defined"
     ]
    }
   ],
   "source": [
    "df2 = df1.copy()"
   ]
  },
  {
   "cell_type": "markdown",
   "id": "812489be",
   "metadata": {},
   "source": [
    "## 2.1 Hypotheses Mindmap"
   ]
  },
  {
   "cell_type": "code",
   "execution_count": null,
   "id": "230ced87",
   "metadata": {},
   "outputs": [],
   "source": []
  },
  {
   "cell_type": "markdown",
   "id": "10420cac",
   "metadata": {
    "ExecuteTime": {
     "end_time": "2022-05-10T00:50:52.665423Z",
     "start_time": "2022-05-10T00:50:52.662817Z"
    }
   },
   "source": [
    "## 2.2. Hypothesis"
   ]
  },
  {
   "cell_type": "markdown",
   "id": "fca35f8d",
   "metadata": {},
   "source": [
    "H1 - Mulheres tem mais interesse em comprar seguro de veículos que homens.\n",
    "\n",
    "H2 - Clientes com carros novos/seminovos (menor que 2 anos), tem mais interesse em seguro de veículos.\n",
    "\n",
    "H3 - Clientes sem carteira de motorista não tem interesse algum em seguro de veículos.\n",
    "\n",
    "H4 - Clientes que ja sofreram algum acidente tem mais interesse em adquirir seguro de veículos.\n",
    "\n",
    "H5 - Clientes acima de 30 anos são mais interessados em adquirir seguro de veículos.\n",
    "\n",
    "H6 - Clientes que pagaram entre 30000 e 40000 para serem premium no ano(Annual Premium) tem mais interesse em adquirir seguro de veículos.\n",
    "\n",
    "H7 - Homens tem mais eventos de dano a veículos, do que mulheres."
   ]
  },
  {
   "cell_type": "markdown",
   "id": "c3e00ca8",
   "metadata": {},
   "source": [
    "## 2.3. Feature Engineering"
   ]
  },
  {
   "cell_type": "code",
   "execution_count": 4,
   "id": "3eca2830",
   "metadata": {
    "ExecuteTime": {
     "end_time": "2022-05-13T01:12:02.073798Z",
     "start_time": "2022-05-13T01:12:02.060894Z"
    }
   },
   "outputs": [
    {
     "ename": "NameError",
     "evalue": "name 'df2' is not defined",
     "output_type": "error",
     "traceback": [
      "\u001b[0;31m---------------------------------------------------------------------------\u001b[0m",
      "\u001b[0;31mNameError\u001b[0m                                 Traceback (most recent call last)",
      "Input \u001b[0;32mIn [4]\u001b[0m, in \u001b[0;36m<cell line: 2>\u001b[0;34m()\u001b[0m\n\u001b[1;32m      1\u001b[0m \u001b[38;5;66;03m# Vehicle Damage Number\u001b[39;00m\n\u001b[0;32m----> 2\u001b[0m df2[\u001b[38;5;124m'\u001b[39m\u001b[38;5;124mvehicle_damage\u001b[39m\u001b[38;5;124m'\u001b[39m] \u001b[38;5;241m=\u001b[39m \u001b[43mdf2\u001b[49m[\u001b[38;5;124m'\u001b[39m\u001b[38;5;124mvehicle_damage\u001b[39m\u001b[38;5;124m'\u001b[39m]\u001b[38;5;241m.\u001b[39mapply( \u001b[38;5;28;01mlambda\u001b[39;00m x: \u001b[38;5;241m1\u001b[39m \u001b[38;5;28;01mif\u001b[39;00m x \u001b[38;5;241m==\u001b[39m \u001b[38;5;124m'\u001b[39m\u001b[38;5;124mYes\u001b[39m\u001b[38;5;124m'\u001b[39m \u001b[38;5;28;01melse\u001b[39;00m \u001b[38;5;241m0\u001b[39m )\n\u001b[1;32m      4\u001b[0m \u001b[38;5;66;03m# Vehicle Age\u001b[39;00m\n\u001b[1;32m      5\u001b[0m df2[\u001b[38;5;124m'\u001b[39m\u001b[38;5;124mvehicle_age\u001b[39m\u001b[38;5;124m'\u001b[39m] \u001b[38;5;241m=\u001b[39m  df2[\u001b[38;5;124m'\u001b[39m\u001b[38;5;124mvehicle_age\u001b[39m\u001b[38;5;124m'\u001b[39m]\u001b[38;5;241m.\u001b[39mapply( \u001b[38;5;28;01mlambda\u001b[39;00m x: \u001b[38;5;124m'\u001b[39m\u001b[38;5;124mover_2_years\u001b[39m\u001b[38;5;124m'\u001b[39m \u001b[38;5;28;01mif\u001b[39;00m x \u001b[38;5;241m==\u001b[39m \u001b[38;5;124m'\u001b[39m\u001b[38;5;124m> 2 Years\u001b[39m\u001b[38;5;124m'\u001b[39m \u001b[38;5;28;01melse\u001b[39;00m \u001b[38;5;124m'\u001b[39m\u001b[38;5;124mbetween_1_2_year\u001b[39m\u001b[38;5;124m'\u001b[39m \u001b[38;5;28;01mif\u001b[39;00m x \u001b[38;5;241m==\u001b[39m \u001b[38;5;124m'\u001b[39m\u001b[38;5;124m1-2 Year\u001b[39m\u001b[38;5;124m'\u001b[39m \u001b[38;5;28;01melse\u001b[39;00m \u001b[38;5;124m'\u001b[39m\u001b[38;5;124mbelow_1_year\u001b[39m\u001b[38;5;124m'\u001b[39m )\n",
      "\u001b[0;31mNameError\u001b[0m: name 'df2' is not defined"
     ]
    }
   ],
   "source": [
    "# Vehicle Damage Number\n",
    "df2['vehicle_damage'] = df2['vehicle_damage'].apply( lambda x: 1 if x == 'Yes' else 0 )\n",
    "\n",
    "# Vehicle Age\n",
    "df2['vehicle_age'] =  df2['vehicle_age'].apply( lambda x: 'over_2_years' if x == '> 2 Years' else 'between_1_2_year' if x == '1-2 Year' else 'below_1_year' )           "
   ]
  },
  {
   "cell_type": "markdown",
   "id": "94ccb36c",
   "metadata": {},
   "source": [
    "# 3.0. Data Filtering"
   ]
  },
  {
   "cell_type": "code",
   "execution_count": 16,
   "id": "2752d50a",
   "metadata": {
    "ExecuteTime": {
     "end_time": "2022-05-11T01:57:21.952415Z",
     "start_time": "2022-05-11T01:57:21.919666Z"
    }
   },
   "outputs": [],
   "source": [
    "df3 = df2.copy()"
   ]
  },
  {
   "cell_type": "markdown",
   "id": "12b3d130",
   "metadata": {},
   "source": [
    "# 4.0. EDA"
   ]
  },
  {
   "cell_type": "code",
   "execution_count": 17,
   "id": "48d98a76",
   "metadata": {
    "ExecuteTime": {
     "end_time": "2022-05-11T01:57:22.285121Z",
     "start_time": "2022-05-11T01:57:22.271935Z"
    }
   },
   "outputs": [],
   "source": [
    "df4 = df3.copy()"
   ]
  },
  {
   "cell_type": "markdown",
   "id": "c39c9aba",
   "metadata": {},
   "source": [
    "## 4.1. Univariate Analysis"
   ]
  },
  {
   "cell_type": "code",
   "execution_count": 18,
   "id": "56db8a16",
   "metadata": {
    "ExecuteTime": {
     "end_time": "2022-05-11T01:57:23.096688Z",
     "start_time": "2022-05-11T01:57:22.640313Z"
    }
   },
   "outputs": [
    {
     "name": "stderr",
     "output_type": "stream",
     "text": [
      "/opt/anaconda/envs/health-insurance/lib/python3.9/site-packages/seaborn/_decorators.py:36: FutureWarning: Pass the following variable as a keyword arg: x. From version 0.12, the only valid positional argument will be `data`, and passing other arguments without an explicit keyword will result in an error or misinterpretation.\n",
      "  warnings.warn(\n"
     ]
    },
    {
     "ename": "NameError",
     "evalue": "name 'show' is not defined",
     "output_type": "error",
     "traceback": [
      "\u001b[0;31m---------------------------------------------------------------------------\u001b[0m",
      "\u001b[0;31mNameError\u001b[0m                                 Traceback (most recent call last)",
      "Input \u001b[0;32mIn [18]\u001b[0m, in \u001b[0;36m<cell line: 3>\u001b[0;34m()\u001b[0m\n\u001b[1;32m      1\u001b[0m ax\u001b[38;5;241m=\u001b[39msns\u001b[38;5;241m.\u001b[39mcountplot(df4[\u001b[38;5;124m'\u001b[39m\u001b[38;5;124mresponse\u001b[39m\u001b[38;5;124m'\u001b[39m])\n\u001b[1;32m      2\u001b[0m total\u001b[38;5;241m=\u001b[39m\u001b[38;5;28mlen\u001b[39m(df4[\u001b[38;5;124m'\u001b[39m\u001b[38;5;124mresponse\u001b[39m\u001b[38;5;124m'\u001b[39m])\n\u001b[0;32m----> 3\u001b[0m \u001b[43mgraphic_percentage\u001b[49m\u001b[43m(\u001b[49m\u001b[43max\u001b[49m\u001b[43m,\u001b[49m\u001b[43mtotal\u001b[49m\u001b[43m)\u001b[49m\n",
      "Input \u001b[0;32mIn [2]\u001b[0m, in \u001b[0;36mgraphic_percentage\u001b[0;34m(ax, total)\u001b[0m\n\u001b[1;32m      3\u001b[0m     height \u001b[38;5;241m=\u001b[39m p\u001b[38;5;241m.\u001b[39mget_height()\n\u001b[1;32m      4\u001b[0m     ax\u001b[38;5;241m.\u001b[39mtext(p\u001b[38;5;241m.\u001b[39mget_x()\u001b[38;5;241m+\u001b[39mp\u001b[38;5;241m.\u001b[39mget_width()\u001b[38;5;241m/\u001b[39m\u001b[38;5;241m2.\u001b[39m,\n\u001b[1;32m      5\u001b[0m             height,\n\u001b[1;32m      6\u001b[0m             \u001b[38;5;124m'\u001b[39m\u001b[38;5;132;01m{:1.2f}\u001b[39;00m\u001b[38;5;124m'\u001b[39m\u001b[38;5;241m.\u001b[39mformat(height\u001b[38;5;241m/\u001b[39mtotal\u001b[38;5;241m*\u001b[39m\u001b[38;5;241m100\u001b[39m),\n\u001b[1;32m      7\u001b[0m             ha\u001b[38;5;241m=\u001b[39m\u001b[38;5;124m\"\u001b[39m\u001b[38;5;124mcenter\u001b[39m\u001b[38;5;124m\"\u001b[39m) \n\u001b[0;32m----> 8\u001b[0m \u001b[43mshow\u001b[49m\n",
      "\u001b[0;31mNameError\u001b[0m: name 'show' is not defined"
     ]
    },
    {
     "data": {
      "image/png": "[encoded data removed]",
      "text/plain": [
       "<Figure size 432x288 with 1 Axes>"
      ]
     },
     "metadata": {
      "needs_background": "light"
     },
     "output_type": "display_data"
    }
   ],
   "source": [
    "ax=sns.countplot(df4['response'])\n",
    "total=len(df4['response'])\n",
    "graphic_percentage(ax,total)"
   ]
  },
  {
   "cell_type": "code",
   "execution_count": null,
   "id": "ba667462",
   "metadata": {
    "ExecuteTime": {
     "end_time": "2022-05-11T01:57:23.098059Z",
     "start_time": "2022-05-11T01:57:23.098044Z"
    }
   },
   "outputs": [],
   "source": [
    "# 'age'\n",
    "sns.boxplot( x='response', y='age', data=df4);"
   ]
  },
  {
   "cell_type": "code",
   "execution_count": null,
   "id": "5c5445fa",
   "metadata": {
    "ExecuteTime": {
     "end_time": "2022-05-11T01:57:23.098917Z",
     "start_time": "2022-05-11T01:57:23.098906Z"
    },
    "cell_style": "center",
    "hide_input": false
   },
   "outputs": [],
   "source": [
    "plt.figure(figsize=(18, 6))\n",
    "\n",
    "plt.subplot(1, 2, 1)\n",
    "aux1 = df4.loc[df4['response'] == 0, 'age' ]\n",
    "sns.histplot( aux1 )\n",
    "\n",
    "plt.subplot(1, 2, 2)\n",
    "aux2 = df4.loc[df4['response'] == 1, 'age' ]\n",
    "sns.histplot( aux2 )"
   ]
  },
  {
   "cell_type": "code",
   "execution_count": 19,
   "id": "cb9e044b",
   "metadata": {
    "ExecuteTime": {
     "end_time": "2022-05-11T01:57:23.451756Z",
     "start_time": "2022-05-11T01:57:23.300130Z"
    }
   },
   "outputs": [
    {
     "data": {
      "image/png": "[encoded data removed]",
      "text/plain": [
       "<Figure size 432x288 with 1 Axes>"
      ]
     },
     "metadata": {
      "needs_background": "light"
     },
     "output_type": "display_data"
    }
   ],
   "source": [
    "# 'annual_premium'\n",
    "aux = df4[df4['annual_premium'] < 80000]\n",
    "sns.boxplot( x='response', y='annual_premium', data=aux);"
   ]
  },
  {
   "cell_type": "code",
   "execution_count": 20,
   "id": "d20339aa",
   "metadata": {
    "ExecuteTime": {
     "end_time": "2022-05-11T01:57:24.137116Z",
     "start_time": "2022-05-11T01:57:23.488842Z"
    },
    "cell_style": "center"
   },
   "outputs": [
    {
     "data": {
      "text/plain": [
       "<AxesSubplot:xlabel='annual_premium', ylabel='Count'>"
      ]
     },
     "execution_count": 20,
     "metadata": {},
     "output_type": "execute_result"
    },
    {
     "data": {
      "image/png": "[encoded data removed]",
      "text/plain": [
       "<Figure size 1296x432 with 2 Axes>"
      ]
     },
     "metadata": {
      "needs_background": "light"
     },
     "output_type": "display_data"
    }
   ],
   "source": [
    "plt.figure(figsize=(18, 6))\n",
    "\n",
    "plt.subplot(1, 2, 1)\n",
    "aux = df4[(df4['annual_premium'] > 10000 ) &(df4['annual_premium'] < 80000)]\n",
    "aux1 = aux.loc[aux['response'] == 0, 'annual_premium' ]\n",
    "sns.histplot( aux1 )\n",
    "\n",
    "plt.subplot(1, 2, 2)\n",
    "aux2 = aux.loc[aux['response'] == 1, 'annual_premium' ]\n",
    "sns.histplot( aux2 )"
   ]
  },
  {
   "cell_type": "code",
   "execution_count": 21,
   "id": "5875c4fb",
   "metadata": {
    "ExecuteTime": {
     "end_time": "2022-05-11T01:57:24.220139Z",
     "start_time": "2022-05-11T01:57:24.138662Z"
    }
   },
   "outputs": [
    {
     "data": {
      "image/png": "[encoded data removed]",
      "text/plain": [
       "<Figure size 432x288 with 1 Axes>"
      ]
     },
     "metadata": {
      "needs_background": "light"
     },
     "output_type": "display_data"
    }
   ],
   "source": [
    "# 'driving_license'\n",
    "aux = df4[['driving_license', 'response']].groupby( 'response' ).sum().reset_index()\n",
    "sns.barplot( x='response', y='driving_license', data=aux);"
   ]
  },
  {
   "cell_type": "code",
   "execution_count": 22,
   "id": "99dd461e",
   "metadata": {
    "ExecuteTime": {
     "end_time": "2022-05-11T01:57:24.238994Z",
     "start_time": "2022-05-11T01:57:24.221263Z"
    }
   },
   "outputs": [
    {
     "data": {
      "text/html": [
       "<div>\n",
       "<style scoped>\n",
       "    .dataframe tbody tr th:only-of-type {\n",
       "        vertical-align: middle;\n",
       "    }\n",
       "\n",
       "    .dataframe tbody tr th {\n",
       "        vertical-align: top;\n",
       "    }\n",
       "\n",
       "    .dataframe thead th {\n",
       "        text-align: right;\n",
       "    }\n",
       "</style>\n",
       "<table border=\"1\" class=\"dataframe\">\n",
       "  <thead>\n",
       "    <tr style=\"text-align: right;\">\n",
       "      <th></th>\n",
       "      <th>response</th>\n",
       "      <th>driving_license</th>\n",
       "      <th>driving_license_%</th>\n",
       "    </tr>\n",
       "  </thead>\n",
       "  <tbody>\n",
       "    <tr>\n",
       "      <th>0</th>\n",
       "      <td>0</td>\n",
       "      <td>333628</td>\n",
       "      <td>0.877283</td>\n",
       "    </tr>\n",
       "    <tr>\n",
       "      <th>1</th>\n",
       "      <td>1</td>\n",
       "      <td>46669</td>\n",
       "      <td>0.122717</td>\n",
       "    </tr>\n",
       "  </tbody>\n",
       "</table>\n",
       "</div>"
      ],
      "text/plain": [
       "   response  driving_license  driving_license_%\n",
       "0         0           333628           0.877283\n",
       "1         1            46669           0.122717"
      ]
     },
     "execution_count": 22,
     "metadata": {},
     "output_type": "execute_result"
    }
   ],
   "source": [
    "aux = df4[['driving_license', 'response']].groupby( 'response' ).sum().reset_index()\n",
    "aux['driving_license_%'] = aux['driving_license'] / aux['driving_license'].sum()\n",
    "aux.head()"
   ]
  },
  {
   "cell_type": "code",
   "execution_count": 23,
   "id": "209f30f1",
   "metadata": {
    "ExecuteTime": {
     "end_time": "2022-05-11T01:57:24.243316Z",
     "start_time": "2022-05-11T01:57:24.240391Z"
    }
   },
   "outputs": [],
   "source": [
    "# 'region_code'"
   ]
  },
  {
   "cell_type": "code",
   "execution_count": 24,
   "id": "7e8be3e8",
   "metadata": {
    "ExecuteTime": {
     "end_time": "2022-05-11T01:57:24.464566Z",
     "start_time": "2022-05-11T01:57:24.312192Z"
    }
   },
   "outputs": [
    {
     "data": {
      "image/png": "[encoded data removed]",
      "text/plain": [
       "<Figure size 864x432 with 1 Axes>"
      ]
     },
     "metadata": {
      "needs_background": "light"
     },
     "output_type": "display_data"
    }
   ],
   "source": [
    "plt.figure(figsize=(12, 6))\n",
    "aux0 = df4[['id', 'region_code', 'response']].groupby( ['region_code', 'response'] ).count().reset_index()\n",
    "\n",
    "sns.scatterplot( x='region_code', y='id', hue='response', data=aux0);"
   ]
  },
  {
   "cell_type": "code",
   "execution_count": 25,
   "id": "861680af",
   "metadata": {
    "ExecuteTime": {
     "end_time": "2022-05-11T01:57:24.545984Z",
     "start_time": "2022-05-11T01:57:24.543940Z"
    },
    "hide_input": true
   },
   "outputs": [],
   "source": [
    "# 'driving_license'"
   ]
  },
  {
   "cell_type": "code",
   "execution_count": 26,
   "id": "6acd0789",
   "metadata": {
    "ExecuteTime": {
     "end_time": "2022-05-11T01:57:24.790321Z",
     "start_time": "2022-05-11T01:57:24.754402Z"
    }
   },
   "outputs": [
    {
     "data": {
      "text/html": [
       "<div>\n",
       "<style scoped>\n",
       "    .dataframe tbody tr th:only-of-type {\n",
       "        vertical-align: middle;\n",
       "    }\n",
       "\n",
       "    .dataframe tbody tr th {\n",
       "        vertical-align: top;\n",
       "    }\n",
       "\n",
       "    .dataframe thead th {\n",
       "        text-align: right;\n",
       "    }\n",
       "</style>\n",
       "<table border=\"1\" class=\"dataframe\">\n",
       "  <thead>\n",
       "    <tr style=\"text-align: right;\">\n",
       "      <th>response</th>\n",
       "      <th>0</th>\n",
       "      <th>1</th>\n",
       "    </tr>\n",
       "    <tr>\n",
       "      <th>previously_insured</th>\n",
       "      <th></th>\n",
       "      <th></th>\n",
       "    </tr>\n",
       "  </thead>\n",
       "  <tbody>\n",
       "    <tr>\n",
       "      <th>0</th>\n",
       "      <td>0.774546</td>\n",
       "      <td>0.225454</td>\n",
       "    </tr>\n",
       "    <tr>\n",
       "      <th>1</th>\n",
       "      <td>0.999095</td>\n",
       "      <td>0.000905</td>\n",
       "    </tr>\n",
       "  </tbody>\n",
       "</table>\n",
       "</div>"
      ],
      "text/plain": [
       "response                   0         1\n",
       "previously_insured                    \n",
       "0                   0.774546  0.225454\n",
       "1                   0.999095  0.000905"
      ]
     },
     "execution_count": 26,
     "metadata": {},
     "output_type": "execute_result"
    }
   ],
   "source": [
    "# 'previously_insured'\n",
    "pd.crosstab(df4['previously_insured'], df4['response']).apply( lambda x: x / x.sum(), axis=1 )"
   ]
  },
  {
   "cell_type": "code",
   "execution_count": 27,
   "id": "0b83ab84",
   "metadata": {
    "ExecuteTime": {
     "end_time": "2022-05-11T01:57:25.021832Z",
     "start_time": "2022-05-11T01:57:24.984821Z"
    }
   },
   "outputs": [
    {
     "data": {
      "text/html": [
       "<div>\n",
       "<style scoped>\n",
       "    .dataframe tbody tr th:only-of-type {\n",
       "        vertical-align: middle;\n",
       "    }\n",
       "\n",
       "    .dataframe tbody tr th {\n",
       "        vertical-align: top;\n",
       "    }\n",
       "\n",
       "    .dataframe thead th {\n",
       "        text-align: right;\n",
       "    }\n",
       "</style>\n",
       "<table border=\"1\" class=\"dataframe\">\n",
       "  <thead>\n",
       "    <tr style=\"text-align: right;\">\n",
       "      <th></th>\n",
       "      <th>vehicle_age</th>\n",
       "      <th>response</th>\n",
       "      <th>0</th>\n",
       "    </tr>\n",
       "  </thead>\n",
       "  <tbody>\n",
       "    <tr>\n",
       "      <th>0</th>\n",
       "      <td>between_1_2_year</td>\n",
       "      <td>0</td>\n",
       "      <td>0.434285</td>\n",
       "    </tr>\n",
       "    <tr>\n",
       "      <th>1</th>\n",
       "      <td>below_1_year</td>\n",
       "      <td>0</td>\n",
       "      <td>0.413488</td>\n",
       "    </tr>\n",
       "    <tr>\n",
       "      <th>2</th>\n",
       "      <td>between_1_2_year</td>\n",
       "      <td>1</td>\n",
       "      <td>0.091328</td>\n",
       "    </tr>\n",
       "    <tr>\n",
       "      <th>3</th>\n",
       "      <td>over_2_years</td>\n",
       "      <td>0</td>\n",
       "      <td>0.029663</td>\n",
       "    </tr>\n",
       "    <tr>\n",
       "      <th>4</th>\n",
       "      <td>below_1_year</td>\n",
       "      <td>1</td>\n",
       "      <td>0.018897</td>\n",
       "    </tr>\n",
       "    <tr>\n",
       "      <th>5</th>\n",
       "      <td>over_2_years</td>\n",
       "      <td>1</td>\n",
       "      <td>0.012338</td>\n",
       "    </tr>\n",
       "  </tbody>\n",
       "</table>\n",
       "</div>"
      ],
      "text/plain": [
       "        vehicle_age  response         0\n",
       "0  between_1_2_year         0  0.434285\n",
       "1      below_1_year         0  0.413488\n",
       "2  between_1_2_year         1  0.091328\n",
       "3      over_2_years         0  0.029663\n",
       "4      below_1_year         1  0.018897\n",
       "5      over_2_years         1  0.012338"
      ]
     },
     "execution_count": 27,
     "metadata": {},
     "output_type": "execute_result"
    }
   ],
   "source": [
    "# 'vehicle_age'\n",
    "df4[['vehicle_age', 'response']].value_counts( normalize=True ).reset_index()"
   ]
  },
  {
   "cell_type": "code",
   "execution_count": 28,
   "id": "547a2ad4",
   "metadata": {
    "ExecuteTime": {
     "end_time": "2022-05-11T01:57:25.988271Z",
     "start_time": "2022-05-11T01:57:25.176163Z"
    }
   },
   "outputs": [
    {
     "data": {
      "image/png": "[encoded data removed]",
      "text/plain": [
       "<Figure size 1728x864 with 1 Axes>"
      ]
     },
     "metadata": {
      "needs_background": "light"
     },
     "output_type": "display_data"
    }
   ],
   "source": [
    "# 'policy_sales_channel'\n",
    "plt.figure(figsize=(24, 12))\n",
    "aux = df4[['policy_sales_channel', 'response']].groupby( 'policy_sales_channel').sum().reset_index()\n",
    "sns.barplot( x='response', y='policy_sales_channel', data=aux);"
   ]
  },
  {
   "cell_type": "code",
   "execution_count": 29,
   "id": "3cdc2efc",
   "metadata": {
    "ExecuteTime": {
     "end_time": "2022-05-11T01:57:26.104981Z",
     "start_time": "2022-05-11T01:57:25.989712Z"
    }
   },
   "outputs": [
    {
     "data": {
      "image/png": "[encoded data removed]",
      "text/plain": [
       "<Figure size 864x432 with 1 Axes>"
      ]
     },
     "metadata": {
      "needs_background": "light"
     },
     "output_type": "display_data"
    }
   ],
   "source": [
    "plt.figure( figsize=(18, 6))\n",
    "\n",
    "plt.subplot(1, 2, 1)\n",
    "aux1 = df4.loc[df4['response'] == 0, 'vintage' ]\n",
    "sns.histplot( aux1 )\n",
    "\n",
    "plt.subplot(1, 2, 2)\n",
    "aux2 = df4.loc[df4['response'] == 1, 'vintage' ]\n",
    "sns.histplot( aux2 )"
   ]
  },
  {
   "cell_type": "code",
   "execution_count": 30,
   "id": "5d9fcae4",
   "metadata": {
    "ExecuteTime": {
     "end_time": "2022-05-11T01:57:26.520661Z",
     "start_time": "2022-05-11T01:57:26.106406Z"
    }
   },
   "outputs": [
    {
     "data": {
      "text/plain": [
       "<AxesSubplot:xlabel='vintage', ylabel='Count'>"
      ]
     },
     "execution_count": 30,
     "metadata": {},
     "output_type": "execute_result"
    },
    {
     "data": {
      "image/png": "[encoded data removed]",
      "text/plain": [
       "<Figure size 1296x432 with 2 Axes>"
      ]
     },
     "metadata": {
      "needs_background": "light"
     },
     "output_type": "display_data"
    }
   ],
   "source": [
    "plt.figure( figsize=(18, 6))\n",
    "\n",
    "plt.subplot(1, 2, 1)\n",
    "aux1 = df4.loc[df4['response'] == 0, 'vintage' ]\n",
    "sns.histplot( aux1 )\n",
    "\n",
    "plt.subplot(1, 2, 2)\n",
    "aux2 = df4.loc[df4['response'] == 1, 'vintage' ]\n",
    "sns.histplot( aux2 )"
   ]
  },
  {
   "cell_type": "code",
   "execution_count": 6,
   "id": "077918ac",
   "metadata": {
    "ExecuteTime": {
     "end_time": "2022-05-13T01:42:22.650952Z",
     "start_time": "2022-05-13T01:42:22.639964Z"
    }
   },
   "outputs": [
    {
     "ename": "NameError",
     "evalue": "name 'df4' is not defined",
     "output_type": "error",
     "traceback": [
      "\u001b[0;31m---------------------------------------------------------------------------\u001b[0m",
      "\u001b[0;31mNameError\u001b[0m                                 Traceback (most recent call last)",
      "Input \u001b[0;32mIn [6]\u001b[0m, in \u001b[0;36m<cell line: 1>\u001b[0;34m()\u001b[0m\n\u001b[0;32m----> 1\u001b[0m df \u001b[38;5;241m=\u001b[39m pd\u001b[38;5;241m.\u001b[39mpivot_table( index\u001b[38;5;241m=\u001b[39m\u001b[38;5;124m'\u001b[39m\u001b[38;5;124mvintage\u001b[39m\u001b[38;5;124m'\u001b[39m, columns\u001b[38;5;241m=\u001b[39m\u001b[38;5;124m'\u001b[39m\u001b[38;5;124mresponse\u001b[39m\u001b[38;5;124m'\u001b[39m, values\u001b[38;5;241m=\u001b[39m\u001b[38;5;124m'\u001b[39m\u001b[38;5;124mid\u001b[39m\u001b[38;5;124m'\u001b[39m, data\u001b[38;5;241m=\u001b[39m\u001b[43mdf4\u001b[49m)\u001b[38;5;241m.\u001b[39mreset_index()\n\u001b[1;32m      2\u001b[0m df\u001b[38;5;241m.\u001b[39mcolumns \u001b[38;5;241m=\u001b[39m [\u001b[38;5;124m'\u001b[39m\u001b[38;5;124mvintage\u001b[39m\u001b[38;5;124m'\u001b[39m, \u001b[38;5;124m'\u001b[39m\u001b[38;5;124mno_response\u001b[39m\u001b[38;5;124m'\u001b[39m, \u001b[38;5;124m'\u001b[39m\u001b[38;5;124myes_response\u001b[39m\u001b[38;5;124m'\u001b[39m]\n",
      "\u001b[0;31mNameError\u001b[0m: name 'df4' is not defined"
     ]
    }
   ],
   "source": [
    "df = pd.pivot_table( index='vintage', columns='response', values='id', data=df4).reset_index()\n",
    "df.columns = ['vintage', 'no_response', 'yes_response']"
   ]
  },
  {
   "cell_type": "code",
   "execution_count": 32,
   "id": "19f9e581",
   "metadata": {
    "ExecuteTime": {
     "end_time": "2022-05-11T01:57:28.709736Z",
     "start_time": "2022-05-11T01:57:26.553682Z"
    }
   },
   "outputs": [
    {
     "data": {
      "text/plain": [
       "<Figure size 1296x432 with 0 Axes>"
      ]
     },
     "metadata": {},
     "output_type": "display_data"
    },
    {
     "data": {
      "image/png": "[encoded data removed]",
      "text/plain": [
       "<Figure size 432x288 with 1 Axes>"
      ]
     },
     "metadata": {
      "needs_background": "light"
     },
     "output_type": "display_data"
    }
   ],
   "source": [
    "plt.figure( figsize=(18, 6))\n",
    "df.plot( x='vintage', kind='bar', stacked=True);"
   ]
  },
  {
   "cell_type": "markdown",
   "id": "54a4f2ad",
   "metadata": {},
   "source": [
    "# 5.0. Data Preparation"
   ]
  },
  {
   "cell_type": "code",
   "execution_count": 33,
   "id": "57c4c680",
   "metadata": {
    "ExecuteTime": {
     "end_time": "2022-05-11T01:57:28.797439Z",
     "start_time": "2022-05-11T01:57:28.711061Z"
    }
   },
   "outputs": [],
   "source": [
    "X = df4.drop( 'response', axis=1 )\n",
    "y = df4['response'].copy() \n",
    "\n",
    "x_train, x_validation, y_train, y_validation = ms.train_test_split( X, y, test_size=0.20 )\n",
    "\n",
    "df5 = pd.concat( [x_train, y_train], axis=1 )"
   ]
  },
  {
   "cell_type": "markdown",
   "id": "1ce6fef7",
   "metadata": {},
   "source": [
    "## 5.1. Standardization"
   ]
  },
  {
   "cell_type": "code",
   "execution_count": 34,
   "id": "5ed0f287",
   "metadata": {
    "ExecuteTime": {
     "end_time": "2022-05-11T01:57:28.818082Z",
     "start_time": "2022-05-11T01:57:28.799065Z"
    }
   },
   "outputs": [],
   "source": [
    "ss = pp.StandardScaler()\n",
    "\n",
    "# anual premium - StandarScaler\n",
    "df5['annual_premium'] = ss.fit_transform( df5[['annual_premium']].values )\n",
    "pickle.dump( ss, open( '../src/features/annual_premium_scaler.pkl', 'wb' ) )"
   ]
  },
  {
   "cell_type": "markdown",
   "id": "37b1c6ed",
   "metadata": {},
   "source": [
    "## 5.2. Rescaling"
   ]
  },
  {
   "cell_type": "code",
   "execution_count": 35,
   "id": "a3df57e3",
   "metadata": {
    "ExecuteTime": {
     "end_time": "2022-05-11T01:57:28.844193Z",
     "start_time": "2022-05-11T01:57:28.819209Z"
    }
   },
   "outputs": [],
   "source": [
    "mms_age = pp.MinMaxScaler()\n",
    "mms_vintage = pp.MinMaxScaler()\n",
    "\n",
    "# age - MinMaxScaler\n",
    "df5['age'] = mms_age.fit_transform( df5[['age']].values )\n",
    "pickle.dump( mms_age, open( '../src/features/age_scaler.pkl', 'wb'))\n",
    "\n",
    "# vintage - MinMaxScaler\n",
    "df5['vintage'] = mms_vintage.fit_transform( df5[['vintage']].values )\n",
    "pickle.dump( mms_vintage, open( '../src/features/vintage_scaler.pkl', 'wb'))"
   ]
  },
  {
   "cell_type": "markdown",
   "id": "941e72e0",
   "metadata": {},
   "source": [
    "## 5.3. Transformation"
   ]
  },
  {
   "cell_type": "markdown",
   "id": "f2ae477a",
   "metadata": {},
   "source": [
    "### 5.3.1. Encoding"
   ]
  },
  {
   "cell_type": "code",
   "execution_count": 36,
   "id": "ec252a66",
   "metadata": {
    "ExecuteTime": {
     "end_time": "2022-05-11T01:57:28.948368Z",
     "start_time": "2022-05-11T01:57:28.845516Z"
    }
   },
   "outputs": [],
   "source": [
    "# gender - One Hot Encoding / Target Encoding\n",
    "target_encode_gender = df5.groupby( 'gender' )['response'].mean()\n",
    "df5.loc[:, 'gender'] = df5['gender'].map( target_encode_gender )\n",
    "pickle.dump( target_encode_gender, open( '../src/features/target_encode_gender_scaler.pkl', 'wb' ) )\n",
    "\n",
    "# region_code - Target Encoding / Frequency Encoding\n",
    "target_encode_region_code = df5.groupby( 'region_code' )['response'].mean()\n",
    "df5.loc[:, 'region_code'] = df5['region_code'].map( target_encode_region_code )\n",
    "pickle.dump( target_encode_region_code, open( '../src/features/target_encode_region_code_scaler.pkl', 'wb' ) )\n",
    "\n",
    "# vehicle_age - One Hot Encoding / Frequency Encoding\n",
    "df5 = pd.get_dummies( df5, prefix='vehicle_age', columns=['vehicle_age'] )\n",
    "\n",
    "# policy_sales_channel - Target Encoding / Frequency Encoding\n",
    "fe_policy_sales_channel = df5.groupby( 'policy_sales_channel' ).size() / len( df5 ) \n",
    "df5.loc[:, 'policy_sales_channel'] = df5['policy_sales_channel'].map( fe_policy_sales_channel )\n",
    "pickle.dump( fe_policy_sales_channel, open( '../src/features/fe_policy_sales_channel_scaler.pkl', 'wb' ) )"
   ]
  },
  {
   "cell_type": "markdown",
   "id": "330cf2aa",
   "metadata": {},
   "source": [
    "## 5.4 Validation Preparation"
   ]
  },
  {
   "cell_type": "code",
   "execution_count": 37,
   "id": "3ccca6f2",
   "metadata": {
    "ExecuteTime": {
     "end_time": "2022-05-11T01:57:29.006809Z",
     "start_time": "2022-05-11T01:57:28.949474Z"
    }
   },
   "outputs": [],
   "source": [
    "# gender\n",
    "x_validation.loc[:, 'gender'] =  x_validation.loc[:, 'gender'].map( target_encode_gender )\n",
    "\n",
    "# age\n",
    "x_validation.loc[:, 'age'] = mms_age.transform( x_validation[['age']].values )\n",
    "\n",
    "# region_code\n",
    "x_validation.loc[:, 'region_code'] = x_validation.loc[:, 'region_code'].map( target_encode_region_code )\n",
    "\n",
    "# vehicle_age\n",
    "x_validation = pd.get_dummies( x_validation, prefix='vehicle_age', columns=['vehicle_age'] )\n",
    "\n",
    "# annual_premium\n",
    "x_validation.loc[:, 'annual_premium'] = ss.transform( x_validation[['annual_premium']].values )\n",
    "\n",
    "# policy_sales_channel\n",
    "x_validation.loc[:, 'policy_sales_channel'] = x_validation['policy_sales_channel'].map( fe_policy_sales_channel )\n",
    "\n",
    "# vintage\n",
    "x_validation.loc[:, 'vintage'] = mms_vintage.transform( x_validation[['vintage']].values )\n",
    "\n",
    "# fillna\n",
    "x_validation = x_validation.fillna( 0 )"
   ]
  },
  {
   "cell_type": "markdown",
   "id": "b6a861c4",
   "metadata": {},
   "source": [
    "# 6.0. Feature Selection"
   ]
  },
  {
   "cell_type": "markdown",
   "id": "0a14ee84",
   "metadata": {},
   "source": [
    "## 6.2. Features Importancia"
   ]
  },
  {
   "cell_type": "code",
   "execution_count": 38,
   "id": "9fb04604",
   "metadata": {
    "ExecuteTime": {
     "end_time": "2022-05-11T01:57:51.906752Z",
     "start_time": "2022-05-11T01:57:29.008003Z"
    }
   },
   "outputs": [
    {
     "data": {
      "text/plain": [
       "ExtraTreesClassifier(n_estimators=250, n_jobs=-1, random_state=0)"
      ]
     },
     "execution_count": 38,
     "metadata": {},
     "output_type": "execute_result"
    }
   ],
   "source": [
    "# model definition\n",
    "forest = en.ExtraTreesClassifier( n_estimators=250, random_state=0, n_jobs=-1 )\n",
    "\n",
    "# data preparation\n",
    "x_train_n = df5.drop( ['id', 'response'], axis=1 )\n",
    "y_train_n = y_train.values\n",
    "forest.fit( x_train_n, y_train_n )"
   ]
  },
  {
   "cell_type": "code",
   "execution_count": 39,
   "id": "0c423276",
   "metadata": {
    "ExecuteTime": {
     "end_time": "2022-05-11T01:57:52.680839Z",
     "start_time": "2022-05-11T01:57:51.908751Z"
    },
    "scrolled": false
   },
   "outputs": [
    {
     "name": "stdout",
     "output_type": "stream",
     "text": [
      "Feature ranking:\n",
      "                        feature  importance\n",
      "0                       vintage    0.273605\n",
      "0                annual_premium    0.244601\n",
      "0                           age    0.163740\n",
      "0                   region_code    0.105233\n",
      "0                vehicle_damage    0.068556\n",
      "0          policy_sales_channel    0.060238\n",
      "0            previously_insured    0.055873\n",
      "0      vehicle_age_below_1_year    0.014018\n",
      "0  vehicle_age_between_1_2_year    0.006295\n",
      "0                        gender    0.005052\n",
      "0      vehicle_age_over_2_years    0.002302\n",
      "0               driving_license    0.000488\n"
     ]
    },
    {
     "data": {
      "image/png": "[encoded data removed]",
      "text/plain": [
       "<Figure size 432x288 with 1 Axes>"
      ]
     },
     "metadata": {
      "needs_background": "light"
     },
     "output_type": "display_data"
    }
   ],
   "source": [
    "importances = forest.feature_importances_\n",
    "std = np.std([tree.feature_importances_ for tree in forest.estimators_], axis=0)\n",
    "indices = np.argsort(importances)[::-1]\n",
    "\n",
    "# Print the feature ranking\n",
    "print('Feature ranking:')\n",
    "df = pd.DataFrame()\n",
    "for i, j in zip( x_train_n, forest.feature_importances_ ):\n",
    "    aux = pd.DataFrame( {'feature': i, 'importance': j}, index=[0] )\n",
    "    df = pd.concat( [df, aux], axis=0 )\n",
    "    \n",
    "print( df.sort_values( 'importance', ascending=False ) )\n",
    "\n",
    "# Plot the impurity-based feature importances of the forest\n",
    "plt.figure()\n",
    "plt.title('Feature Importances')\n",
    "plt.bar(range(x_train_n.shape[1]),importances[indices], color='r', yerr=std[indices], align='center')\n",
    "plt.xticks(range(x_train_n.shape[1]),indices)\n",
    "plt.xlim([-1, x_train_n.shape[1]])\n",
    "plt.show();"
   ]
  },
  {
   "cell_type": "markdown",
   "id": "b76819f0",
   "metadata": {},
   "source": [
    "# 7.0. Machine Learning"
   ]
  },
  {
   "cell_type": "code",
   "execution_count": 40,
   "id": "95d28714",
   "metadata": {
    "ExecuteTime": {
     "end_time": "2022-05-11T01:57:52.686256Z",
     "start_time": "2022-05-11T01:57:52.682029Z"
    }
   },
   "outputs": [],
   "source": [
    "cols_selected = ['annual_premium', 'vintage', 'age', 'region_code', 'vehicle_damage', 'previously_insured',\n",
    "                 'policy_sales_channel']"
   ]
  },
  {
   "cell_type": "code",
   "execution_count": 41,
   "id": "8dcd69f1",
   "metadata": {
    "ExecuteTime": {
     "end_time": "2022-05-11T01:57:52.702018Z",
     "start_time": "2022-05-11T01:57:52.687410Z"
    }
   },
   "outputs": [],
   "source": [
    "x_train = df5[ cols_selected ]\n",
    "\n",
    "x_val = x_validation[ cols_selected ]\n",
    "y_val = y_validation"
   ]
  },
  {
   "cell_type": "markdown",
   "id": "f3150cb5",
   "metadata": {},
   "source": [
    "## 7.1. KNN Classifier"
   ]
  },
  {
   "cell_type": "code",
   "execution_count": 42,
   "id": "9ed19c0b",
   "metadata": {
    "ExecuteTime": {
     "end_time": "2022-05-11T01:57:57.801671Z",
     "start_time": "2022-05-11T01:57:52.703209Z"
    },
    "cell_style": "center",
    "hide_input": false
   },
   "outputs": [],
   "source": [
    "# model definition\n",
    "knn_model = nh.KNeighborsClassifier( n_neighbors=7 )\n",
    "\n",
    "# model training\n",
    "knn_model.fit( x_train, y_train )\n",
    "\n",
    "# model prediction\n",
    "yhat_knn = knn_model.predict_proba( x_val )"
   ]
  },
  {
   "cell_type": "code",
   "execution_count": 43,
   "id": "16b94d22",
   "metadata": {
    "ExecuteTime": {
     "end_time": "2022-05-11T01:57:57.918211Z",
     "start_time": "2022-05-11T01:57:57.802857Z"
    },
    "cell_style": "split"
   },
   "outputs": [
    {
     "data": {
      "image/png": "[encoded data removed]",
      "text/plain": [
       "<Figure size 432x288 with 1 Axes>"
      ]
     },
     "metadata": {
      "needs_background": "light"
     },
     "output_type": "display_data"
    }
   ],
   "source": [
    "# Accumulative gain\n",
    "skplt.metrics.plot_cumulative_gain( y_val,yhat_knn );"
   ]
  },
  {
   "cell_type": "code",
   "execution_count": 44,
   "id": "e0896cc2",
   "metadata": {
    "ExecuteTime": {
     "end_time": "2022-05-11T01:57:58.037416Z",
     "start_time": "2022-05-11T01:57:57.919742Z"
    },
    "cell_style": "split"
   },
   "outputs": [
    {
     "data": {
      "image/png": "[encoded data removed]",
      "text/plain": [
       "<Figure size 432x288 with 1 Axes>"
      ]
     },
     "metadata": {
      "needs_background": "light"
     },
     "output_type": "display_data"
    }
   ],
   "source": [
    "#Scikitplot library is there to help\n",
    "skplt.metrics.plot_lift_curve( y_val, yhat_knn );"
   ]
  },
  {
   "cell_type": "markdown",
   "id": "c0641632",
   "metadata": {},
   "source": [
    "## 7.2. Logistic Regressor"
   ]
  },
  {
   "cell_type": "code",
   "execution_count": 45,
   "id": "df23f4ac",
   "metadata": {
    "ExecuteTime": {
     "end_time": "2022-05-11T01:57:58.920292Z",
     "start_time": "2022-05-11T01:57:58.038658Z"
    },
    "cell_style": "center",
    "hide_input": false
   },
   "outputs": [],
   "source": [
    "# model definition\n",
    "lr_model = lm.LogisticRegression( random_state=42 ) \n",
    "\n",
    "# model training\n",
    "lr_model.fit( x_train, y_train )\n",
    "\n",
    "# model prediction\n",
    "yhat_lr = lr_model.predict_proba( x_val )"
   ]
  },
  {
   "cell_type": "code",
   "execution_count": 46,
   "id": "450d3ca5",
   "metadata": {
    "ExecuteTime": {
     "end_time": "2022-05-11T01:57:59.051155Z",
     "start_time": "2022-05-11T01:57:58.921583Z"
    },
    "cell_style": "split"
   },
   "outputs": [
    {
     "data": {
      "image/png": "[encoded data removed]",
      "text/plain": [
       "<Figure size 432x288 with 1 Axes>"
      ]
     },
     "metadata": {
      "needs_background": "light"
     },
     "output_type": "display_data"
    }
   ],
   "source": [
    "# Accumulative Gain\n",
    "skplt.metrics.plot_cumulative_gain( y_val, yhat_lr );"
   ]
  },
  {
   "cell_type": "code",
   "execution_count": 47,
   "id": "b73c5745",
   "metadata": {
    "ExecuteTime": {
     "end_time": "2022-05-11T01:57:59.177887Z",
     "start_time": "2022-05-11T01:57:59.052676Z"
    },
    "cell_style": "split"
   },
   "outputs": [
    {
     "data": {
      "image/png": "[encoded data removed]",
      "text/plain": [
       "<Figure size 432x288 with 1 Axes>"
      ]
     },
     "metadata": {
      "needs_background": "light"
     },
     "output_type": "display_data"
    }
   ],
   "source": [
    "#Scikitplot library is there to help\n",
    "skplt.metrics.plot_lift_curve( y_val, yhat_lr );"
   ]
  },
  {
   "cell_type": "markdown",
   "id": "49136b8a",
   "metadata": {},
   "source": [
    "## 7.3 Extra Trees Classifier"
   ]
  },
  {
   "cell_type": "code",
   "execution_count": 62,
   "id": "f2dd5655",
   "metadata": {
    "ExecuteTime": {
     "end_time": "2022-05-07T21:13:53.118107Z",
     "start_time": "2022-05-07T21:13:53.115232Z"
    }
   },
   "outputs": [],
   "source": [
    " # model definition\n",
    "#et = en.ExtraTreesClassifier( n_estimators=1000, n_jobs=-1, random_state=42 ) \n",
    "\n",
    "# model training\n",
    "#et.fit( x_train, y_train )\n",
    "\n",
    "# model prediction\n",
    "#yhat_et = et.predict_proba( x_val )"
   ]
  },
  {
   "cell_type": "code",
   "execution_count": null,
   "id": "b7d62dac",
   "metadata": {
    "cell_style": "split"
   },
   "outputs": [],
   "source": [
    " # Accumulative Gain\n",
    "skplt.metrics.plot_cumulative_gain( y_val, yhat_et );"
   ]
  },
  {
   "cell_type": "code",
   "execution_count": null,
   "id": "3d2964a6",
   "metadata": {
    "cell_style": "split"
   },
   "outputs": [],
   "source": [
    "#Scikitplot library is there to help\n",
    "skplt.metrics.plot_lift_curve( y_val, yhat_et );"
   ]
  },
  {
   "cell_type": "markdown",
   "id": "7f3576eb",
   "metadata": {},
   "source": [
    "##  7.4. Random Forest"
   ]
  },
  {
   "cell_type": "code",
   "execution_count": 65,
   "id": "9c9aba79",
   "metadata": {
    "ExecuteTime": {
     "end_time": "2022-05-08T00:23:13.609082Z",
     "start_time": "2022-05-08T00:21:18.359581Z"
    }
   },
   "outputs": [],
   "source": [
    "# model definition\n",
    "rf = en.RandomForestClassifier( n_estimators=1000, n_jobs=-1, random_state=42 )\n",
    "\n",
    "# model training\n",
    "rf.fit( x_train, y_train )\n",
    "\n",
    "# model prediction\n",
    "yhat_rf = rf.predict_proba( x_val )"
   ]
  },
  {
   "cell_type": "code",
   "execution_count": 66,
   "id": "bfdaa89f",
   "metadata": {
    "ExecuteTime": {
     "end_time": "2022-05-08T00:23:14.096701Z",
     "start_time": "2022-05-08T00:23:13.629303Z"
    },
    "cell_style": "split"
   },
   "outputs": [
    {
     "data": {
      "image/png": "[encoded data removed]",
      "text/plain": [
       "<Figure size 432x288 with 1 Axes>"
      ]
     },
     "metadata": {
      "needs_background": "light"
     },
     "output_type": "display_data"
    }
   ],
   "source": [
    "#Accumulative gain\n",
    "skplt.metrics.plot_cumulative_gain( y_val, yhat_rf );"
   ]
  },
  {
   "cell_type": "code",
   "execution_count": 67,
   "id": "1ac9e373",
   "metadata": {
    "ExecuteTime": {
     "end_time": "2022-05-08T00:23:16.930642Z",
     "start_time": "2022-05-08T00:23:14.097736Z"
    },
    "cell_style": "split",
    "scrolled": true
   },
   "outputs": [
    {
     "data": {
      "image/png": "[encoded data removed]",
      "text/plain": [
       "<Figure size 432x288 with 1 Axes>"
      ]
     },
     "metadata": {
      "needs_background": "light"
     },
     "output_type": "display_data"
    }
   ],
   "source": [
    "# scikitplot libary is there to help\n",
    "skplt.metrics.plot_lift_curve( y_val, yhat_rf );"
   ]
  },
  {
   "cell_type": "markdown",
   "id": "51337fef",
   "metadata": {},
   "source": [
    "# 8.0. Model Performance"
   ]
  },
  {
   "cell_type": "code",
   "execution_count": 68,
   "id": "388c320a",
   "metadata": {
    "ExecuteTime": {
     "end_time": "2022-05-08T00:24:55.901093Z",
     "start_time": "2022-05-08T00:24:55.888638Z"
    }
   },
   "outputs": [],
   "source": [
    "def precision_at_k( data, k=10 ):\n",
    "    data = data.reset_index( drop=True )\n",
    "    data['ranking'] = data.index + 1\n",
    "    \n",
    "    data['precision_at_k'] = data['response'].cumsum() / data['ranking']\n",
    "    \n",
    "    return ( data.loc[ k, 'precision_at_k'], data )"
   ]
  },
  {
   "cell_type": "code",
   "execution_count": 69,
   "id": "3a29c380",
   "metadata": {
    "ExecuteTime": {
     "end_time": "2022-05-08T00:25:07.113683Z",
     "start_time": "2022-05-08T00:25:07.109678Z"
    }
   },
   "outputs": [],
   "source": [
    "def recall_at_k( data, k=15 ):\n",
    "    data = data.reset_index( drop=True )\n",
    "    data['ranking'] = data.index + 1\n",
    "    \n",
    "    data['recall_at_k'] = data['response'].cumsum() / data['response'].sum()\n",
    "    \n",
    "    return ( data.loc[ k, 'recall_at_k'], data )"
   ]
  },
  {
   "cell_type": "markdown",
   "id": "721e3a98",
   "metadata": {},
   "source": [
    "# 9.0. Deploy to Production"
   ]
  },
  {
   "cell_type": "code",
   "execution_count": 47,
   "id": "a9725d56",
   "metadata": {
    "ExecuteTime": {
     "end_time": "2022-05-08T09:36:01.807554Z",
     "start_time": "2022-05-08T09:36:01.804762Z"
    }
   },
   "outputs": [],
   "source": [
    "# Save trained model\n",
    "pickle.dump( lr_model, open( '/home/cassiano/repos/health_insurance_cross_sell/src/models/model_linear_regression.pkl', 'wb' ) )"
   ]
  },
  {
   "cell_type": "markdown",
   "id": "4624c85d",
   "metadata": {},
   "source": [
    "## 9.1. Health Insurance Class"
   ]
  },
  {
   "cell_type": "code",
   "execution_count": 100,
   "id": "2e19718d",
   "metadata": {
    "ExecuteTime": {
     "end_time": "2022-05-08T09:55:09.216001Z",
     "start_time": "2022-05-08T09:55:09.208336Z"
    }
   },
   "outputs": [],
   "source": [
    "import pickle\n",
    "import numpy  as np\n",
    "import pandas as pd\n",
    "\n",
    "class HealthInsurance( object ):\n",
    "    \n",
    "    def __init__( self ):\n",
    "        self.home_path = '/home/cassiano/repos/health_insurance_cross_sell/'\n",
    "        self.annual_premium_scaler =            pickle.load( open( self.home_path + 'src/features/annual_premium_scaler.pkl', 'rb' ) )\n",
    "        self.age_scaler =                       pickle.load( open( self.home_path + 'src/features/age_scaler.pkl', 'rb' ) ) \n",
    "        self.vintage_scaler =                   pickle.load( open( self.home_path + 'src/features/vintage_scaler.pkl', 'rb' ) ) \n",
    "        self.target_encode_gender_scaler =      pickle.load( open( self.home_path + 'src/features/target_encode_gender_scaler.pkl', 'rb' ) )\n",
    "        self.target_encode_region_code_scaler = pickle.load( open( self.home_path + 'src/features/target_encode_region_code_scaler.pkl', 'rb' ) )\n",
    "        self.fe_policy_sales_channel_scaler =   pickle.load( open( self.home_path + 'src/features/fe_policy_sales_channel_scaler.pkl', 'rb' ) )\n",
    "        \n",
    "    def data_cleaning( self, df1 ):\n",
    "        # 1.1. Rename Columns\n",
    "        cols_new = ['id', 'gender', 'age', 'driving_license', 'region_code', 'previously_insured', 'vehicle_age', \n",
    "                    'vehicle_damage', 'annual_premium', 'policy_sales_channel', 'vintage']\n",
    "\n",
    "        # rename \n",
    "        df1.columns = cols_new\n",
    "        \n",
    "        return df1 \n",
    "\n",
    "    \n",
    "    def feature_engineering( self, df2 ):\n",
    "        # 2.0. Feature Engineering\n",
    "\n",
    "        # Vehicle Damage Number\n",
    "        df2['vehicle_damage'] = df2['vehicle_damage'].apply( lambda x: 1 if x == 'Yes' else 0 )\n",
    "\n",
    "        # Vehicle Age\n",
    "        df2['vehicle_age'] =  df2['vehicle_age'].apply( lambda x: 'over_2_years' if x == '> 2 Years' else 'between_1_2_year' if x == '1-2 Year' else 'below_1_year' )\n",
    "        \n",
    "        return df2\n",
    "    \n",
    "    \n",
    "    def data_preparation( self, df5 ):\n",
    "        # anual premium - StandarScaler\n",
    "        df5['annual_premium'] = self.annual_premium_scaler.transform( df5[['annual_premium']].values )\n",
    "\n",
    "        # Age - MinMaxScaler\n",
    "        df5['age'] = self.age_scaler.transform( df5[['age']].values )\n",
    "\n",
    "        # Vintage - MinMaxScaler\n",
    "        df5['vintage'] = self.vintage_scaler.transform( df5[['vintage']].values )\n",
    "\n",
    "        # gender - One Hot Encoding / Target Encoding\n",
    "        df5.loc[:, 'gender'] = df5['gender'].map( self.target_encode_gender_scaler )\n",
    "\n",
    "        # region_code - Target Encoding / Frequency Encoding\n",
    "        df5.loc[:, 'region_code'] = df5['region_code'].map( self.target_encode_region_code_scaler )\n",
    "\n",
    "        # vehicle_age - One Hot Encoding / Frequency Encoding\n",
    "        df5 = pd.get_dummies( df5, prefix='vehicle_age', columns=['vehicle_age'] )\n",
    "\n",
    "        # policy_sales_channel - Target Encoding / Frequency Encoding\n",
    "        df5.loc[:, 'policy_sales_channel'] = df5['policy_sales_channel'].map( self.fe_policy_sales_channel_scaler )\n",
    "        \n",
    "        # Feature Selection\n",
    "        cols_selected = ['annual_premium', 'vintage', 'age', 'region_code', 'vehicle_damage', 'previously_insured',\n",
    "                         'policy_sales_channel']\n",
    "        \n",
    "        return df5[ cols_selected ]\n",
    "    \n",
    "    \n",
    "    def get_prediction( self, model, original_data, test_data ):\n",
    "        # model prediction\n",
    "        pred = model.predict_proba( test_data )\n",
    "\n",
    "        # join prediction into original data\n",
    "        original_data['score'] = pred[:, 1].tolist()\n",
    "        \n",
    "        return original_data.to_json( orient='records', date_format='iso' )"
   ]
  },
  {
   "cell_type": "markdown",
   "id": "8097762f",
   "metadata": {},
   "source": [
    "## 9.2. API Handler"
   ]
  },
  {
   "cell_type": "code",
   "execution_count": 101,
   "id": "97a0eaa2",
   "metadata": {
    "ExecuteTime": {
     "end_time": "2022-05-08T09:55:10.419177Z",
     "start_time": "2022-05-08T09:55:10.400559Z"
    }
   },
   "outputs": [
    {
     "ename": "ModuleNotFoundError",
     "evalue": "No module named 'healthinsurance'",
     "output_type": "error",
     "traceback": [
      "\u001b[0;31m---------------------------------------------------------------------------\u001b[0m",
      "\u001b[0;31mModuleNotFoundError\u001b[0m                       Traceback (most recent call last)",
      "Input \u001b[0;32mIn [101]\u001b[0m, in \u001b[0;36m<cell line: 4>\u001b[0;34m()\u001b[0m\n\u001b[1;32m      2\u001b[0m \u001b[38;5;28;01mimport\u001b[39;00m \u001b[38;5;21;01mpandas\u001b[39;00m \u001b[38;5;28;01mas\u001b[39;00m \u001b[38;5;21;01mpd\u001b[39;00m\n\u001b[1;32m      3\u001b[0m \u001b[38;5;28;01mfrom\u001b[39;00m \u001b[38;5;21;01mflask\u001b[39;00m \u001b[38;5;28;01mimport\u001b[39;00m Flask, request, Response\n\u001b[0;32m----> 4\u001b[0m \u001b[38;5;28;01mfrom\u001b[39;00m \u001b[38;5;21;01mhealthinsurance\u001b[39;00m\u001b[38;5;21;01m.\u001b[39;00m\u001b[38;5;21;01mHealthInsurance\u001b[39;00m \u001b[38;5;28;01mimport\u001b[39;00m HealthInsurance\n\u001b[1;32m      6\u001b[0m \u001b[38;5;66;03m# loading model\u001b[39;00m\n\u001b[1;32m      7\u001b[0m path \u001b[38;5;241m=\u001b[39m \u001b[38;5;124m'\u001b[39m\u001b[38;5;124m/home/cassiano/repos/health_insurance_cross_sell/\u001b[39m\u001b[38;5;124m'\u001b[39m\n",
      "\u001b[0;31mModuleNotFoundError\u001b[0m: No module named 'healthinsurance'"
     ]
    }
   ],
   "source": [
    "import pickle\n",
    "import pandas as pd\n",
    "from flask import Flask, request, Response\n",
    "from healthinsurance.HealthInsurance import HealthInsurance\n",
    "\n",
    "# loading model\n",
    "path = '/home/cassiano/repos/health_insurance_cross_sell/'\n",
    "model = pickle.load( open( path + 'src/models/model_linear_regression.pkl', 'rb' ) )\n",
    "\n",
    "# initialize API\n",
    "app = Flask( __name__ )\n",
    "\n",
    "@app.route( '/predict', methods=['POST'] )\n",
    "def healthinsurance_predict():\n",
    "    test_json = request.get_json()\n",
    "\n",
    "    if test_json: # there is data\n",
    "        if isinstance( test_json, dict ): # unique example\n",
    "            test_raw = pd.DataFrame( test_json, index=[0] )\n",
    "            \n",
    "        else: # multiple example\n",
    "            test_raw = pd.DataFrame( test_json, columns=test_json[0].keys() )\n",
    "            \n",
    "        # Instantiate Rossmann class\n",
    "        pipeline = HealthInsurance()\n",
    "        \n",
    "        # data cleaning\n",
    "        df1 = pipeline.data_cleaning( test_raw )\n",
    "        \n",
    "        # feature engineering\n",
    "        df2 = pipeline.feature_engineering( df1 )\n",
    "        \n",
    "        # data preparation\n",
    "        df3 = pipeline.data_preparation( df2 )\n",
    "        \n",
    "        # prediction\n",
    "        df_response = pipeline.get_prediction( model, test_raw, df3 )\n",
    "        \n",
    "        return df_response\n",
    "    \n",
    "    else:\n",
    "        return Response( '{}', status=200, mimetype='application/json' )\n",
    "    \n",
    "if __name__ == '__main__':\n",
    "    app.run( '0.0.0.0', debug=True )"
   ]
  },
  {
   "cell_type": "markdown",
   "id": "3f759908",
   "metadata": {},
   "source": [
    "## 9.3. API Tester"
   ]
  },
  {
   "cell_type": "code",
   "execution_count": 141,
   "id": "eaa5ef1d",
   "metadata": {
    "ExecuteTime": {
     "end_time": "2022-05-08T11:20:31.041244Z",
     "start_time": "2022-05-08T11:20:31.035160Z"
    }
   },
   "outputs": [],
   "source": [
    "import requests"
   ]
  },
  {
   "cell_type": "code",
   "execution_count": 2,
   "id": "2597b5ec",
   "metadata": {
    "ExecuteTime": {
     "end_time": "2022-05-09T23:59:08.789546Z",
     "start_time": "2022-05-09T23:59:08.674490Z"
    }
   },
   "outputs": [],
   "source": [
    "df_test  = pd.read_csv( '../data/raw/test.csv')"
   ]
  },
  {
   "cell_type": "code",
   "execution_count": 3,
   "id": "51acecc9",
   "metadata": {
    "ExecuteTime": {
     "end_time": "2022-05-09T23:59:09.972267Z",
     "start_time": "2022-05-09T23:59:09.966315Z"
    }
   },
   "outputs": [
    {
     "name": "stdout",
     "output_type": "stream",
     "text": [
      "Number of Rows: 127037\n",
      "Number of Columns: 11\n"
     ]
    }
   ],
   "source": [
    "print( f'Number of Rows: {df_test.shape[0]}' )\n",
    "print( f'Number of Columns: {df_test.shape[1]}' )"
   ]
  },
  {
   "cell_type": "code",
   "execution_count": 145,
   "id": "f43e90b2",
   "metadata": {
    "ExecuteTime": {
     "end_time": "2022-05-08T11:20:34.668702Z",
     "start_time": "2022-05-08T11:20:34.664343Z"
    }
   },
   "outputs": [],
   "source": [
    " df_test = df_test.sample(10)"
   ]
  },
  {
   "cell_type": "code",
   "execution_count": 146,
   "id": "1aaea526",
   "metadata": {
    "ExecuteTime": {
     "end_time": "2022-05-08T11:20:35.999677Z",
     "start_time": "2022-05-08T11:20:35.990518Z"
    },
    "scrolled": true
   },
   "outputs": [
    {
     "data": {
      "text/html": [
       "<div>\n",
       "<style scoped>\n",
       "    .dataframe tbody tr th:only-of-type {\n",
       "        vertical-align: middle;\n",
       "    }\n",
       "\n",
       "    .dataframe tbody tr th {\n",
       "        vertical-align: top;\n",
       "    }\n",
       "\n",
       "    .dataframe thead th {\n",
       "        text-align: right;\n",
       "    }\n",
       "</style>\n",
       "<table border=\"1\" class=\"dataframe\">\n",
       "  <thead>\n",
       "    <tr style=\"text-align: right;\">\n",
       "      <th></th>\n",
       "      <th>id</th>\n",
       "      <th>Gender</th>\n",
       "      <th>Age</th>\n",
       "      <th>Driving_License</th>\n",
       "      <th>Region_Code</th>\n",
       "      <th>Previously_Insured</th>\n",
       "      <th>Vehicle_Age</th>\n",
       "      <th>Vehicle_Damage</th>\n",
       "      <th>Annual_Premium</th>\n",
       "      <th>Policy_Sales_Channel</th>\n",
       "      <th>Vintage</th>\n",
       "    </tr>\n",
       "  </thead>\n",
       "  <tbody>\n",
       "    <tr>\n",
       "      <th>21277</th>\n",
       "      <td>402387</td>\n",
       "      <td>Female</td>\n",
       "      <td>58</td>\n",
       "      <td>1</td>\n",
       "      <td>37.0</td>\n",
       "      <td>0</td>\n",
       "      <td>1-2 Year</td>\n",
       "      <td>Yes</td>\n",
       "      <td>52175.0</td>\n",
       "      <td>26.0</td>\n",
       "      <td>223</td>\n",
       "    </tr>\n",
       "    <tr>\n",
       "      <th>89250</th>\n",
       "      <td>470360</td>\n",
       "      <td>Female</td>\n",
       "      <td>59</td>\n",
       "      <td>1</td>\n",
       "      <td>28.0</td>\n",
       "      <td>0</td>\n",
       "      <td>1-2 Year</td>\n",
       "      <td>Yes</td>\n",
       "      <td>68125.0</td>\n",
       "      <td>26.0</td>\n",
       "      <td>267</td>\n",
       "    </tr>\n",
       "    <tr>\n",
       "      <th>61653</th>\n",
       "      <td>442763</td>\n",
       "      <td>Male</td>\n",
       "      <td>20</td>\n",
       "      <td>1</td>\n",
       "      <td>36.0</td>\n",
       "      <td>1</td>\n",
       "      <td>&lt; 1 Year</td>\n",
       "      <td>No</td>\n",
       "      <td>37126.0</td>\n",
       "      <td>160.0</td>\n",
       "      <td>59</td>\n",
       "    </tr>\n",
       "    <tr>\n",
       "      <th>109733</th>\n",
       "      <td>490843</td>\n",
       "      <td>Female</td>\n",
       "      <td>22</td>\n",
       "      <td>1</td>\n",
       "      <td>9.0</td>\n",
       "      <td>1</td>\n",
       "      <td>&lt; 1 Year</td>\n",
       "      <td>No</td>\n",
       "      <td>35818.0</td>\n",
       "      <td>152.0</td>\n",
       "      <td>253</td>\n",
       "    </tr>\n",
       "    <tr>\n",
       "      <th>9641</th>\n",
       "      <td>390751</td>\n",
       "      <td>Female</td>\n",
       "      <td>79</td>\n",
       "      <td>1</td>\n",
       "      <td>28.0</td>\n",
       "      <td>0</td>\n",
       "      <td>&gt; 2 Years</td>\n",
       "      <td>Yes</td>\n",
       "      <td>48065.0</td>\n",
       "      <td>26.0</td>\n",
       "      <td>293</td>\n",
       "    </tr>\n",
       "    <tr>\n",
       "      <th>15981</th>\n",
       "      <td>397091</td>\n",
       "      <td>Male</td>\n",
       "      <td>27</td>\n",
       "      <td>1</td>\n",
       "      <td>13.0</td>\n",
       "      <td>1</td>\n",
       "      <td>&lt; 1 Year</td>\n",
       "      <td>No</td>\n",
       "      <td>26198.0</td>\n",
       "      <td>152.0</td>\n",
       "      <td>265</td>\n",
       "    </tr>\n",
       "    <tr>\n",
       "      <th>45502</th>\n",
       "      <td>426612</td>\n",
       "      <td>Female</td>\n",
       "      <td>70</td>\n",
       "      <td>1</td>\n",
       "      <td>28.0</td>\n",
       "      <td>1</td>\n",
       "      <td>1-2 Year</td>\n",
       "      <td>No</td>\n",
       "      <td>38922.0</td>\n",
       "      <td>26.0</td>\n",
       "      <td>283</td>\n",
       "    </tr>\n",
       "    <tr>\n",
       "      <th>917</th>\n",
       "      <td>382027</td>\n",
       "      <td>Female</td>\n",
       "      <td>24</td>\n",
       "      <td>1</td>\n",
       "      <td>33.0</td>\n",
       "      <td>1</td>\n",
       "      <td>&lt; 1 Year</td>\n",
       "      <td>No</td>\n",
       "      <td>30630.0</td>\n",
       "      <td>152.0</td>\n",
       "      <td>255</td>\n",
       "    </tr>\n",
       "    <tr>\n",
       "      <th>61809</th>\n",
       "      <td>442919</td>\n",
       "      <td>Female</td>\n",
       "      <td>32</td>\n",
       "      <td>1</td>\n",
       "      <td>8.0</td>\n",
       "      <td>0</td>\n",
       "      <td>1-2 Year</td>\n",
       "      <td>Yes</td>\n",
       "      <td>2630.0</td>\n",
       "      <td>156.0</td>\n",
       "      <td>72</td>\n",
       "    </tr>\n",
       "    <tr>\n",
       "      <th>36375</th>\n",
       "      <td>417485</td>\n",
       "      <td>Female</td>\n",
       "      <td>26</td>\n",
       "      <td>1</td>\n",
       "      <td>16.0</td>\n",
       "      <td>1</td>\n",
       "      <td>&lt; 1 Year</td>\n",
       "      <td>No</td>\n",
       "      <td>2630.0</td>\n",
       "      <td>152.0</td>\n",
       "      <td>39</td>\n",
       "    </tr>\n",
       "  </tbody>\n",
       "</table>\n",
       "</div>"
      ],
      "text/plain": [
       "            id  Gender  Age  Driving_License  Region_Code  Previously_Insured  \\\n",
       "21277   402387  Female   58                1         37.0                   0   \n",
       "89250   470360  Female   59                1         28.0                   0   \n",
       "61653   442763    Male   20                1         36.0                   1   \n",
       "109733  490843  Female   22                1          9.0                   1   \n",
       "9641    390751  Female   79                1         28.0                   0   \n",
       "15981   397091    Male   27                1         13.0                   1   \n",
       "45502   426612  Female   70                1         28.0                   1   \n",
       "917     382027  Female   24                1         33.0                   1   \n",
       "61809   442919  Female   32                1          8.0                   0   \n",
       "36375   417485  Female   26                1         16.0                   1   \n",
       "\n",
       "       Vehicle_Age Vehicle_Damage  Annual_Premium  Policy_Sales_Channel  \\\n",
       "21277     1-2 Year            Yes         52175.0                  26.0   \n",
       "89250     1-2 Year            Yes         68125.0                  26.0   \n",
       "61653     < 1 Year             No         37126.0                 160.0   \n",
       "109733    < 1 Year             No         35818.0                 152.0   \n",
       "9641     > 2 Years            Yes         48065.0                  26.0   \n",
       "15981     < 1 Year             No         26198.0                 152.0   \n",
       "45502     1-2 Year             No         38922.0                  26.0   \n",
       "917       < 1 Year             No         30630.0                 152.0   \n",
       "61809     1-2 Year            Yes          2630.0                 156.0   \n",
       "36375     < 1 Year             No          2630.0                 152.0   \n",
       "\n",
       "        Vintage  \n",
       "21277       223  \n",
       "89250       267  \n",
       "61653        59  \n",
       "109733      253  \n",
       "9641        293  \n",
       "15981       265  \n",
       "45502       283  \n",
       "917         255  \n",
       "61809        72  \n",
       "36375        39  "
      ]
     },
     "execution_count": 146,
     "metadata": {},
     "output_type": "execute_result"
    }
   ],
   "source": [
    " df_test"
   ]
  },
  {
   "cell_type": "code",
   "execution_count": 147,
   "id": "ae3b963d",
   "metadata": {
    "ExecuteTime": {
     "end_time": "2022-05-08T11:20:37.027104Z",
     "start_time": "2022-05-08T11:20:37.024223Z"
    }
   },
   "outputs": [],
   "source": [
    "# convert dataframe to json\n",
    "data = json.dumps( df_test.to_dict( orient='records' ) )"
   ]
  },
  {
   "cell_type": "code",
   "execution_count": 148,
   "id": "2adb5deb",
   "metadata": {
    "ExecuteTime": {
     "end_time": "2022-05-08T11:20:37.747855Z",
     "start_time": "2022-05-08T11:20:37.737859Z"
    }
   },
   "outputs": [
    {
     "data": {
      "text/plain": [
       "'[{\"id\": 402387, \"Gender\": \"Female\", \"Age\": 58, \"Driving_License\": 1, \"Region_Code\": 37.0, \"Previously_Insured\": 0, \"Vehicle_Age\": \"1-2 Year\", \"Vehicle_Damage\": \"Yes\", \"Annual_Premium\": 52175.0, \"Policy_Sales_Channel\": 26.0, \"Vintage\": 223}, {\"id\": 470360, \"Gender\": \"Female\", \"Age\": 59, \"Driving_License\": 1, \"Region_Code\": 28.0, \"Previously_Insured\": 0, \"Vehicle_Age\": \"1-2 Year\", \"Vehicle_Damage\": \"Yes\", \"Annual_Premium\": 68125.0, \"Policy_Sales_Channel\": 26.0, \"Vintage\": 267}, {\"id\": 442763, \"Gender\": \"Male\", \"Age\": 20, \"Driving_License\": 1, \"Region_Code\": 36.0, \"Previously_Insured\": 1, \"Vehicle_Age\": \"< 1 Year\", \"Vehicle_Damage\": \"No\", \"Annual_Premium\": 37126.0, \"Policy_Sales_Channel\": 160.0, \"Vintage\": 59}, {\"id\": 490843, \"Gender\": \"Female\", \"Age\": 22, \"Driving_License\": 1, \"Region_Code\": 9.0, \"Previously_Insured\": 1, \"Vehicle_Age\": \"< 1 Year\", \"Vehicle_Damage\": \"No\", \"Annual_Premium\": 35818.0, \"Policy_Sales_Channel\": 152.0, \"Vintage\": 253}, {\"id\": 390751, \"Gender\": \"Female\", \"Age\": 79, \"Driving_License\": 1, \"Region_Code\": 28.0, \"Previously_Insured\": 0, \"Vehicle_Age\": \"> 2 Years\", \"Vehicle_Damage\": \"Yes\", \"Annual_Premium\": 48065.0, \"Policy_Sales_Channel\": 26.0, \"Vintage\": 293}, {\"id\": 397091, \"Gender\": \"Male\", \"Age\": 27, \"Driving_License\": 1, \"Region_Code\": 13.0, \"Previously_Insured\": 1, \"Vehicle_Age\": \"< 1 Year\", \"Vehicle_Damage\": \"No\", \"Annual_Premium\": 26198.0, \"Policy_Sales_Channel\": 152.0, \"Vintage\": 265}, {\"id\": 426612, \"Gender\": \"Female\", \"Age\": 70, \"Driving_License\": 1, \"Region_Code\": 28.0, \"Previously_Insured\": 1, \"Vehicle_Age\": \"1-2 Year\", \"Vehicle_Damage\": \"No\", \"Annual_Premium\": 38922.0, \"Policy_Sales_Channel\": 26.0, \"Vintage\": 283}, {\"id\": 382027, \"Gender\": \"Female\", \"Age\": 24, \"Driving_License\": 1, \"Region_Code\": 33.0, \"Previously_Insured\": 1, \"Vehicle_Age\": \"< 1 Year\", \"Vehicle_Damage\": \"No\", \"Annual_Premium\": 30630.0, \"Policy_Sales_Channel\": 152.0, \"Vintage\": 255}, {\"id\": 442919, \"Gender\": \"Female\", \"Age\": 32, \"Driving_License\": 1, \"Region_Code\": 8.0, \"Previously_Insured\": 0, \"Vehicle_Age\": \"1-2 Year\", \"Vehicle_Damage\": \"Yes\", \"Annual_Premium\": 2630.0, \"Policy_Sales_Channel\": 156.0, \"Vintage\": 72}, {\"id\": 417485, \"Gender\": \"Female\", \"Age\": 26, \"Driving_License\": 1, \"Region_Code\": 16.0, \"Previously_Insured\": 1, \"Vehicle_Age\": \"< 1 Year\", \"Vehicle_Damage\": \"No\", \"Annual_Premium\": 2630.0, \"Policy_Sales_Channel\": 152.0, \"Vintage\": 39}]'"
      ]
     },
     "execution_count": 148,
     "metadata": {},
     "output_type": "execute_result"
    }
   ],
   "source": [
    "data"
   ]
  },
  {
   "cell_type": "code",
   "execution_count": 152,
   "id": "72d68f1e",
   "metadata": {
    "ExecuteTime": {
     "end_time": "2022-05-08T11:59:39.160516Z",
     "start_time": "2022-05-08T11:59:38.521567Z"
    }
   },
   "outputs": [
    {
     "name": "stdout",
     "output_type": "stream",
     "text": [
      "Status Code 200\n"
     ]
    }
   ],
   "source": [
    "# API Call\n",
    "#url = 'http://0.0.0.0:5000/predict'\n",
    "url = 'https://health-insurance-score.herokuapp.com/predict'\n",
    "header = {'Content-type': 'application/json' }\n",
    "\n",
    "r = requests.post( url, data=data, headers=header )\n",
    "print( 'Status Code {}'.format( r.status_code ) )"
   ]
  },
  {
   "cell_type": "code",
   "execution_count": 153,
   "id": "3da22668",
   "metadata": {
    "ExecuteTime": {
     "end_time": "2022-05-08T12:07:00.730951Z",
     "start_time": "2022-05-08T12:07:00.718338Z"
    }
   },
   "outputs": [
    {
     "data": {
      "text/html": [
       "<div>\n",
       "<style scoped>\n",
       "    .dataframe tbody tr th:only-of-type {\n",
       "        vertical-align: middle;\n",
       "    }\n",
       "\n",
       "    .dataframe tbody tr th {\n",
       "        vertical-align: top;\n",
       "    }\n",
       "\n",
       "    .dataframe thead th {\n",
       "        text-align: right;\n",
       "    }\n",
       "</style>\n",
       "<table border=\"1\" class=\"dataframe\">\n",
       "  <thead>\n",
       "    <tr style=\"text-align: right;\">\n",
       "      <th></th>\n",
       "      <th>id</th>\n",
       "      <th>gender</th>\n",
       "      <th>age</th>\n",
       "      <th>driving_license</th>\n",
       "      <th>region_code</th>\n",
       "      <th>previously_insured</th>\n",
       "      <th>vehicle_age</th>\n",
       "      <th>vehicle_damage</th>\n",
       "      <th>annual_premium</th>\n",
       "      <th>policy_sales_channel</th>\n",
       "      <th>vintage</th>\n",
       "      <th>score</th>\n",
       "    </tr>\n",
       "  </thead>\n",
       "  <tbody>\n",
       "    <tr>\n",
       "      <th>1</th>\n",
       "      <td>470360</td>\n",
       "      <td>0.103518</td>\n",
       "      <td>0.600000</td>\n",
       "      <td>1</td>\n",
       "      <td>0.187178</td>\n",
       "      <td>0</td>\n",
       "      <td>between_1_2_year</td>\n",
       "      <td>1</td>\n",
       "      <td>2.185754</td>\n",
       "      <td>26.0</td>\n",
       "      <td>0.889273</td>\n",
       "      <td>0.285326</td>\n",
       "    </tr>\n",
       "    <tr>\n",
       "      <th>4</th>\n",
       "      <td>390751</td>\n",
       "      <td>0.103518</td>\n",
       "      <td>0.907692</td>\n",
       "      <td>1</td>\n",
       "      <td>0.187178</td>\n",
       "      <td>0</td>\n",
       "      <td>over_2_years</td>\n",
       "      <td>1</td>\n",
       "      <td>1.018464</td>\n",
       "      <td>26.0</td>\n",
       "      <td>0.979239</td>\n",
       "      <td>0.273376</td>\n",
       "    </tr>\n",
       "    <tr>\n",
       "      <th>8</th>\n",
       "      <td>442919</td>\n",
       "      <td>0.103518</td>\n",
       "      <td>0.184615</td>\n",
       "      <td>1</td>\n",
       "      <td>0.096219</td>\n",
       "      <td>0</td>\n",
       "      <td>between_1_2_year</td>\n",
       "      <td>1</td>\n",
       "      <td>-1.625396</td>\n",
       "      <td>156.0</td>\n",
       "      <td>0.214533</td>\n",
       "      <td>0.243598</td>\n",
       "    </tr>\n",
       "    <tr>\n",
       "      <th>0</th>\n",
       "      <td>402387</td>\n",
       "      <td>0.103518</td>\n",
       "      <td>0.584615</td>\n",
       "      <td>1</td>\n",
       "      <td>0.079402</td>\n",
       "      <td>0</td>\n",
       "      <td>between_1_2_year</td>\n",
       "      <td>1</td>\n",
       "      <td>1.257625</td>\n",
       "      <td>26.0</td>\n",
       "      <td>0.737024</td>\n",
       "      <td>0.195093</td>\n",
       "    </tr>\n",
       "    <tr>\n",
       "      <th>6</th>\n",
       "      <td>426612</td>\n",
       "      <td>0.103518</td>\n",
       "      <td>0.769231</td>\n",
       "      <td>1</td>\n",
       "      <td>0.187178</td>\n",
       "      <td>1</td>\n",
       "      <td>between_1_2_year</td>\n",
       "      <td>0</td>\n",
       "      <td>0.486433</td>\n",
       "      <td>26.0</td>\n",
       "      <td>0.944637</td>\n",
       "      <td>0.000830</td>\n",
       "    </tr>\n",
       "    <tr>\n",
       "      <th>2</th>\n",
       "      <td>442763</td>\n",
       "      <td>0.138736</td>\n",
       "      <td>0.000000</td>\n",
       "      <td>1</td>\n",
       "      <td>0.080414</td>\n",
       "      <td>1</td>\n",
       "      <td>below_1_year</td>\n",
       "      <td>0</td>\n",
       "      <td>0.381924</td>\n",
       "      <td>160.0</td>\n",
       "      <td>0.169550</td>\n",
       "      <td>0.000659</td>\n",
       "    </tr>\n",
       "    <tr>\n",
       "      <th>7</th>\n",
       "      <td>382027</td>\n",
       "      <td>0.103518</td>\n",
       "      <td>0.061538</td>\n",
       "      <td>1</td>\n",
       "      <td>0.100213</td>\n",
       "      <td>1</td>\n",
       "      <td>below_1_year</td>\n",
       "      <td>0</td>\n",
       "      <td>0.003922</td>\n",
       "      <td>152.0</td>\n",
       "      <td>0.847751</td>\n",
       "      <td>0.000555</td>\n",
       "    </tr>\n",
       "    <tr>\n",
       "      <th>5</th>\n",
       "      <td>397091</td>\n",
       "      <td>0.138736</td>\n",
       "      <td>0.107692</td>\n",
       "      <td>1</td>\n",
       "      <td>0.090455</td>\n",
       "      <td>1</td>\n",
       "      <td>below_1_year</td>\n",
       "      <td>0</td>\n",
       "      <td>-0.253975</td>\n",
       "      <td>152.0</td>\n",
       "      <td>0.882353</td>\n",
       "      <td>0.000525</td>\n",
       "    </tr>\n",
       "    <tr>\n",
       "      <th>3</th>\n",
       "      <td>490843</td>\n",
       "      <td>0.103518</td>\n",
       "      <td>0.030769</td>\n",
       "      <td>1</td>\n",
       "      <td>0.082080</td>\n",
       "      <td>1</td>\n",
       "      <td>below_1_year</td>\n",
       "      <td>0</td>\n",
       "      <td>0.305812</td>\n",
       "      <td>152.0</td>\n",
       "      <td>0.840830</td>\n",
       "      <td>0.000514</td>\n",
       "    </tr>\n",
       "    <tr>\n",
       "      <th>9</th>\n",
       "      <td>417485</td>\n",
       "      <td>0.103518</td>\n",
       "      <td>0.092308</td>\n",
       "      <td>1</td>\n",
       "      <td>0.068773</td>\n",
       "      <td>1</td>\n",
       "      <td>below_1_year</td>\n",
       "      <td>0</td>\n",
       "      <td>-1.625396</td>\n",
       "      <td>152.0</td>\n",
       "      <td>0.100346</td>\n",
       "      <td>0.000475</td>\n",
       "    </tr>\n",
       "  </tbody>\n",
       "</table>\n",
       "</div>"
      ],
      "text/plain": [
       "       id    gender       age  driving_license  region_code  \\\n",
       "1  470360  0.103518  0.600000                1     0.187178   \n",
       "4  390751  0.103518  0.907692                1     0.187178   \n",
       "8  442919  0.103518  0.184615                1     0.096219   \n",
       "0  402387  0.103518  0.584615                1     0.079402   \n",
       "6  426612  0.103518  0.769231                1     0.187178   \n",
       "2  442763  0.138736  0.000000                1     0.080414   \n",
       "7  382027  0.103518  0.061538                1     0.100213   \n",
       "5  397091  0.138736  0.107692                1     0.090455   \n",
       "3  490843  0.103518  0.030769                1     0.082080   \n",
       "9  417485  0.103518  0.092308                1     0.068773   \n",
       "\n",
       "   previously_insured       vehicle_age  vehicle_damage  annual_premium  \\\n",
       "1                   0  between_1_2_year               1        2.185754   \n",
       "4                   0      over_2_years               1        1.018464   \n",
       "8                   0  between_1_2_year               1       -1.625396   \n",
       "0                   0  between_1_2_year               1        1.257625   \n",
       "6                   1  between_1_2_year               0        0.486433   \n",
       "2                   1      below_1_year               0        0.381924   \n",
       "7                   1      below_1_year               0        0.003922   \n",
       "5                   1      below_1_year               0       -0.253975   \n",
       "3                   1      below_1_year               0        0.305812   \n",
       "9                   1      below_1_year               0       -1.625396   \n",
       "\n",
       "   policy_sales_channel   vintage     score  \n",
       "1                  26.0  0.889273  0.285326  \n",
       "4                  26.0  0.979239  0.273376  \n",
       "8                 156.0  0.214533  0.243598  \n",
       "0                  26.0  0.737024  0.195093  \n",
       "6                  26.0  0.944637  0.000830  \n",
       "2                 160.0  0.169550  0.000659  \n",
       "7                 152.0  0.847751  0.000555  \n",
       "5                 152.0  0.882353  0.000525  \n",
       "3                 152.0  0.840830  0.000514  \n",
       "9                 152.0  0.100346  0.000475  "
      ]
     },
     "execution_count": 153,
     "metadata": {},
     "output_type": "execute_result"
    }
   ],
   "source": [
    "d1 = pd.DataFrame( r.json(), columns=r.json()[0].keys() )\n",
    "d1.sort_values( 'score', ascending=False ).head(20)"
   ]
  },
  {
   "cell_type": "markdown",
   "id": "e1342cad",
   "metadata": {},
   "source": [
    "# 10.0. Google Sheets App - Script"
   ]
  },
  {
   "cell_type": "code",
   "execution_count": null,
   "id": "fc6bb534",
   "metadata": {},
   "outputs": [],
   "source": [
    "function onOpen(){\n",
    "  var ui = SpreadsheetApp.getUi();\n",
    "  ui.createMenu( 'Health Insurance Prediction' )\n",
    "    .addItem( 'Get Prediction', 'PredictAll')\n",
    "    .addToUi(); \n",
    "}\n",
    "\n",
    "host_production = 'health-insurance-score.herokuapp.com'\n",
    "\n",
    "// Help fuction\n",
    "function ApiCall( data, endpoint ){\n",
    "  var url = 'https://' + host_production + endpoint;\n",
    "  var payload = JSON.stringify( data );\n",
    "\n",
    "  var options = {'method': 'POST', 'contentType': 'application/json', 'payload': payload};\n",
    "\n",
    "  var response = UrlFetchApp.fetch( url, options );\n",
    "\n",
    "  //get response\n",
    "  var rc = response.getResponseCode();\n",
    "  var responseText = response.getContentText();\n",
    "\n",
    "  if ( rc !== 200){\n",
    "    Logger.log( 'Response (%s) %s', rc, responseText);\n",
    "  }\n",
    "\n",
    "  else{\n",
    "    prediction = JSON.parse( responseText );\n",
    "  }\n",
    "\n",
    "  return prediction\n",
    "\n",
    "\n",
    "};\n",
    "\n",
    "function PredictAll(){\n",
    "  var ss = SpreadsheetApp.getActiveSheet();\n",
    "  var titleColumns = ss.getRange( 'A1:k1').getValues()[0];\n",
    "  var lastRow = ss.getLastRow();\n",
    "\n",
    "  var data = ss.getRange( 'A2' + ':' + 'K' + lastRow ).getValues();\n",
    "\n",
    "  // run over all rows\n",
    "  for ( row in data ){\n",
    "    var json = new Object();\n",
    "\n",
    "\n",
    "     // run over all columns\n",
    "     for( var j=0; j < titleColumns.length; j++ ){\n",
    "       json[titleColumns[j]] = data[row][j];\n",
    "     };\n",
    "\n",
    "    // List of Json to Send\n",
    "    var json_send = new Object();\n",
    "    json_send['id'] = json['id']\n",
    "    json_send['gender'] = json['gender']\n",
    "    json_send['age'] = json['age']\n",
    "    json_send['driving_license'] = json['driving_license']\n",
    "    json_send['region_code'] = json['region_code']\n",
    "    json_send['previously_insured'] = json['previously_insured']\n",
    "    json_send['vehicle_age'] = json['vehicle_age']\n",
    "    json_send['vehicle_damage'] = json['vehicle_damage']\n",
    "    json_send['annual_premium'] = json['annual_premium']\n",
    "    json_send['policy_sales_channel'] = json['policy_sales_channel']\n",
    "    json_send['vintage'] = json['vintage']\n",
    "\n",
    "    pred = ApiCall( json_send, '/predict');\n",
    "\n",
    "\n",
    "    // Send back to google sheets\n",
    "    ss.getRange( Number( row ) + 2, 12 ).setValue( pred[0]['score'])\n",
    "\n",
    "  };\n",
    "};\n"
   ]
  }
 ],
 "metadata": {
  "kernelspec": {
   "display_name": "Python 3 (ipykernel)",
   "language": "python",
   "name": "python3"
  },
  "language_info": {
   "codemirror_mode": {
    "name": "ipython",
    "version": 3
   },
   "file_extension": ".py",
   "mimetype": "text/x-python",
   "name": "python",
   "nbconvert_exporter": "python",
   "pygments_lexer": "ipython3",
   "version": "3.9.12"
  }
 },
 "nbformat": 4,
 "nbformat_minor": 5
}
